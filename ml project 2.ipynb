{
 "cells": [
  {
   "cell_type": "code",
   "execution_count": 2,
   "id": "1c8b9a47-ea05-443b-b0d9-587c7839a4c3",
   "metadata": {},
   "outputs": [
    {
     "name": "stdout",
     "output_type": "stream",
     "text": [
      "Defaulting to user installation because normal site-packages is not writeable\n",
      "Requirement already satisfied: scikit-learn in c:\\users\\shiva\\appdata\\roaming\\python\\python310\\site-packages (1.5.2)\n",
      "Requirement already satisfied: numpy>=1.19.5 in c:\\users\\shiva\\appdata\\roaming\\python\\python310\\site-packages (from scikit-learn) (1.26.4)\n",
      "Requirement already satisfied: scipy>=1.6.0 in c:\\users\\shiva\\appdata\\roaming\\python\\python310\\site-packages (from scikit-learn) (1.14.1)\n",
      "Requirement already satisfied: joblib>=1.2.0 in c:\\users\\shiva\\appdata\\roaming\\python\\python310\\site-packages (from scikit-learn) (1.4.2)\n",
      "Requirement already satisfied: threadpoolctl>=3.1.0 in c:\\users\\shiva\\appdata\\roaming\\python\\python310\\site-packages (from scikit-learn) (3.5.0)\n"
     ]
    },
    {
     "name": "stderr",
     "output_type": "stream",
     "text": [
      "\n",
      "[notice] A new release of pip is available: 24.2 -> 24.3.1\n",
      "[notice] To update, run: python.exe -m pip install --upgrade pip\n"
     ]
    }
   ],
   "source": [
    "import numpy as np\n",
    "import pandas as pd\n",
    "import ast # For safely evaluating strings that look like Python literals\n",
    "from sklearn.feature_extraction.text import CountVectorizer\n",
    "get_ipython().system('pip install scikit-learn')\n",
    "\n"
   ]
  },
  {
   "cell_type": "code",
   "execution_count": 3,
   "id": "1f37b6d7-2699-419b-aafd-7c7cea1f2225",
   "metadata": {},
   "outputs": [],
   "source": [
    "# Load the datasets\n",
    "movies = pd.read_csv('tmdb_5000_movies.csv')\n",
    "credits = pd.read_csv('tmdb_5000_credits.csv')\n"
   ]
  },
  {
   "cell_type": "code",
   "execution_count": 4,
   "id": "735bdcd9-9e8e-4034-9bdf-38be63ed3ef8",
   "metadata": {},
   "outputs": [
    {
     "name": "stdout",
     "output_type": "stream",
     "text": [
      "      budget                                             genres  \\\n",
      "0  237000000  [{\"id\": 28, \"name\": \"Action\"}, {\"id\": 12, \"nam...   \n",
      "\n",
      "                      homepage     id  \\\n",
      "0  http://www.avatarmovie.com/  19995   \n",
      "\n",
      "                                            keywords original_language  \\\n",
      "0  [{\"id\": 1463, \"name\": \"culture clash\"}, {\"id\":...                en   \n",
      "\n",
      "  original_title                                           overview  \\\n",
      "0         Avatar  In the 22nd century, a paraplegic Marine is di...   \n",
      "\n",
      "   popularity                               production_companies  \\\n",
      "0  150.437577  [{\"name\": \"Ingenious Film Partners\", \"id\": 289...   \n",
      "\n",
      "                                production_countries release_date     revenue  \\\n",
      "0  [{\"iso_3166_1\": \"US\", \"name\": \"United States o...   2009-12-10  2787965087   \n",
      "\n",
      "   runtime                                   spoken_languages    status  \\\n",
      "0    162.0  [{\"iso_639_1\": \"en\", \"name\": \"English\"}, {\"iso...  Released   \n",
      "\n",
      "                       tagline   title  vote_average  vote_count  \n",
      "0  Enter the World of Pandora.  Avatar           7.2       11800  \n",
      "   movie_id   title                                               cast  \\\n",
      "0     19995  Avatar  [{\"cast_id\": 242, \"character\": \"Jake Sully\", \"...   \n",
      "\n",
      "                                                crew  \n",
      "0  [{\"credit_id\": \"52fe48009251416c750aca23\", \"de...  \n"
     ]
    }
   ],
   "source": [
    "# View the first row of each dataset\n",
    "print(movies.head(1))\n",
    "print(credits.head(1))"
   ]
  },
  {
   "cell_type": "code",
   "execution_count": 5,
   "id": "025117e7-8f4b-414e-bb22-03a925f12030",
   "metadata": {},
   "outputs": [],
   "source": [
    "# Merge the datasets on the 'title' column\n",
    "merged_data = movies.merge(credits, on='title')"
   ]
  },
  {
   "cell_type": "code",
   "execution_count": 6,
   "id": "e71a4eef-3a3f-42b7-b93e-b804ea5c0e2a",
   "metadata": {},
   "outputs": [
    {
     "name": "stdout",
     "output_type": "stream",
     "text": [
      "(4809, 23)\n"
     ]
    }
   ],
   "source": [
    "# Check the shape of the merged dataset\n",
    "print(merged_data.shape)"
   ]
  },
  {
   "cell_type": "code",
   "execution_count": 7,
   "id": "79ea2332-ddab-4750-9a8f-600588ac2ad3",
   "metadata": {},
   "outputs": [
    {
     "name": "stdout",
     "output_type": "stream",
     "text": [
      "      budget                                             genres  \\\n",
      "0  237000000  [{\"id\": 28, \"name\": \"Action\"}, {\"id\": 12, \"nam...   \n",
      "1  300000000  [{\"id\": 12, \"name\": \"Adventure\"}, {\"id\": 14, \"...   \n",
      "2  245000000  [{\"id\": 28, \"name\": \"Action\"}, {\"id\": 12, \"nam...   \n",
      "3  250000000  [{\"id\": 28, \"name\": \"Action\"}, {\"id\": 80, \"nam...   \n",
      "4  260000000  [{\"id\": 28, \"name\": \"Action\"}, {\"id\": 12, \"nam...   \n",
      "\n",
      "                                       homepage      id  \\\n",
      "0                   http://www.avatarmovie.com/   19995   \n",
      "1  http://disney.go.com/disneypictures/pirates/     285   \n",
      "2   http://www.sonypictures.com/movies/spectre/  206647   \n",
      "3            http://www.thedarkknightrises.com/   49026   \n",
      "4          http://movies.disney.com/john-carter   49529   \n",
      "\n",
      "                                            keywords original_language  \\\n",
      "0  [{\"id\": 1463, \"name\": \"culture clash\"}, {\"id\":...                en   \n",
      "1  [{\"id\": 270, \"name\": \"ocean\"}, {\"id\": 726, \"na...                en   \n",
      "2  [{\"id\": 470, \"name\": \"spy\"}, {\"id\": 818, \"name...                en   \n",
      "3  [{\"id\": 849, \"name\": \"dc comics\"}, {\"id\": 853,...                en   \n",
      "4  [{\"id\": 818, \"name\": \"based on novel\"}, {\"id\":...                en   \n",
      "\n",
      "                             original_title  \\\n",
      "0                                    Avatar   \n",
      "1  Pirates of the Caribbean: At World's End   \n",
      "2                                   Spectre   \n",
      "3                     The Dark Knight Rises   \n",
      "4                               John Carter   \n",
      "\n",
      "                                            overview  popularity  \\\n",
      "0  In the 22nd century, a paraplegic Marine is di...  150.437577   \n",
      "1  Captain Barbossa, long believed to be dead, ha...  139.082615   \n",
      "2  A cryptic message from Bond’s past sends him o...  107.376788   \n",
      "3  Following the death of District Attorney Harve...  112.312950   \n",
      "4  John Carter is a war-weary, former military ca...   43.926995   \n",
      "\n",
      "                                production_companies  \\\n",
      "0  [{\"name\": \"Ingenious Film Partners\", \"id\": 289...   \n",
      "1  [{\"name\": \"Walt Disney Pictures\", \"id\": 2}, {\"...   \n",
      "2  [{\"name\": \"Columbia Pictures\", \"id\": 5}, {\"nam...   \n",
      "3  [{\"name\": \"Legendary Pictures\", \"id\": 923}, {\"...   \n",
      "4        [{\"name\": \"Walt Disney Pictures\", \"id\": 2}]   \n",
      "\n",
      "                                production_countries release_date     revenue  \\\n",
      "0  [{\"iso_3166_1\": \"US\", \"name\": \"United States o...   2009-12-10  2787965087   \n",
      "1  [{\"iso_3166_1\": \"US\", \"name\": \"United States o...   2007-05-19   961000000   \n",
      "2  [{\"iso_3166_1\": \"GB\", \"name\": \"United Kingdom\"...   2015-10-26   880674609   \n",
      "3  [{\"iso_3166_1\": \"US\", \"name\": \"United States o...   2012-07-16  1084939099   \n",
      "4  [{\"iso_3166_1\": \"US\", \"name\": \"United States o...   2012-03-07   284139100   \n",
      "\n",
      "   runtime                                   spoken_languages    status  \\\n",
      "0    162.0  [{\"iso_639_1\": \"en\", \"name\": \"English\"}, {\"iso...  Released   \n",
      "1    169.0           [{\"iso_639_1\": \"en\", \"name\": \"English\"}]  Released   \n",
      "2    148.0  [{\"iso_639_1\": \"fr\", \"name\": \"Fran\\u00e7ais\"},...  Released   \n",
      "3    165.0           [{\"iso_639_1\": \"en\", \"name\": \"English\"}]  Released   \n",
      "4    132.0           [{\"iso_639_1\": \"en\", \"name\": \"English\"}]  Released   \n",
      "\n",
      "                                          tagline  \\\n",
      "0                     Enter the World of Pandora.   \n",
      "1  At the end of the world, the adventure begins.   \n",
      "2                           A Plan No One Escapes   \n",
      "3                                 The Legend Ends   \n",
      "4            Lost in our world, found in another.   \n",
      "\n",
      "                                      title  vote_average  vote_count  \n",
      "0                                    Avatar           7.2       11800  \n",
      "1  Pirates of the Caribbean: At World's End           6.9        4500  \n",
      "2                                   Spectre           6.3        4466  \n",
      "3                     The Dark Knight Rises           7.6        9106  \n",
      "4                               John Carter           6.1        2124  \n"
     ]
    }
   ],
   "source": [
    "# View the first few rows of the merged dataset\n",
    "print(movies.head())"
   ]
  },
  {
   "cell_type": "code",
   "execution_count": 8,
   "id": "2376ae39-042e-45af-a0e6-2cf864c2740f",
   "metadata": {},
   "outputs": [
    {
     "name": "stdout",
     "output_type": "stream",
     "text": [
      "original_language\n",
      "en    4505\n",
      "fr      70\n",
      "es      32\n",
      "zh      27\n",
      "de      27\n",
      "hi      19\n",
      "ja      16\n",
      "it      14\n",
      "cn      12\n",
      "ru      11\n",
      "ko      11\n",
      "pt       9\n",
      "da       7\n",
      "sv       5\n",
      "nl       4\n",
      "fa       4\n",
      "th       3\n",
      "he       3\n",
      "ta       2\n",
      "cs       2\n",
      "ro       2\n",
      "id       2\n",
      "ar       2\n",
      "vi       1\n",
      "sl       1\n",
      "ps       1\n",
      "no       1\n",
      "ky       1\n",
      "hu       1\n",
      "pl       1\n",
      "af       1\n",
      "nb       1\n",
      "tr       1\n",
      "is       1\n",
      "xx       1\n",
      "te       1\n",
      "el       1\n",
      "Name: count, dtype: int64\n"
     ]
    }
   ],
   "source": [
    "# Value counts for the 'original_language' column\n",
    "print(movies['original_language'].value_counts())\n"
   ]
  },
  {
   "cell_type": "code",
   "execution_count": 9,
   "id": "cb353efc-0ae6-4e76-b017-a6fdeca57ff4",
   "metadata": {},
   "outputs": [
    {
     "name": "stdout",
     "output_type": "stream",
     "text": [
      "<class 'pandas.core.frame.DataFrame'>\n",
      "RangeIndex: 4803 entries, 0 to 4802\n",
      "Data columns (total 20 columns):\n",
      " #   Column                Non-Null Count  Dtype  \n",
      "---  ------                --------------  -----  \n",
      " 0   budget                4803 non-null   int64  \n",
      " 1   genres                4803 non-null   object \n",
      " 2   homepage              1712 non-null   object \n",
      " 3   id                    4803 non-null   int64  \n",
      " 4   keywords              4803 non-null   object \n",
      " 5   original_language     4803 non-null   object \n",
      " 6   original_title        4803 non-null   object \n",
      " 7   overview              4800 non-null   object \n",
      " 8   popularity            4803 non-null   float64\n",
      " 9   production_companies  4803 non-null   object \n",
      " 10  production_countries  4803 non-null   object \n",
      " 11  release_date          4802 non-null   object \n",
      " 12  revenue               4803 non-null   int64  \n",
      " 13  runtime               4801 non-null   float64\n",
      " 14  spoken_languages      4803 non-null   object \n",
      " 15  status                4803 non-null   object \n",
      " 16  tagline               3959 non-null   object \n",
      " 17  title                 4803 non-null   object \n",
      " 18  vote_average          4803 non-null   float64\n",
      " 19  vote_count            4803 non-null   int64  \n",
      "dtypes: float64(3), int64(4), object(13)\n",
      "memory usage: 750.6+ KB\n"
     ]
    }
   ],
   "source": [
    "# Get information about the dataset\n",
    "movies.info()"
   ]
  },
  {
   "cell_type": "code",
   "execution_count": 10,
   "id": "de280e57-7907-4f92-95cb-0f4452dcba60",
   "metadata": {},
   "outputs": [
    {
     "name": "stdout",
     "output_type": "stream",
     "text": [
      "       id                                     title  \\\n",
      "0   19995                                    Avatar   \n",
      "1     285  Pirates of the Caribbean: At World's End   \n",
      "2  206647                                   Spectre   \n",
      "3   49026                     The Dark Knight Rises   \n",
      "4   49529                               John Carter   \n",
      "\n",
      "                                            overview  \\\n",
      "0  In the 22nd century, a paraplegic Marine is di...   \n",
      "1  Captain Barbossa, long believed to be dead, ha...   \n",
      "2  A cryptic message from Bond’s past sends him o...   \n",
      "3  Following the death of District Attorney Harve...   \n",
      "4  John Carter is a war-weary, former military ca...   \n",
      "\n",
      "                                              genres  \\\n",
      "0  [{\"id\": 28, \"name\": \"Action\"}, {\"id\": 12, \"nam...   \n",
      "1  [{\"id\": 12, \"name\": \"Adventure\"}, {\"id\": 14, \"...   \n",
      "2  [{\"id\": 28, \"name\": \"Action\"}, {\"id\": 12, \"nam...   \n",
      "3  [{\"id\": 28, \"name\": \"Action\"}, {\"id\": 80, \"nam...   \n",
      "4  [{\"id\": 28, \"name\": \"Action\"}, {\"id\": 12, \"nam...   \n",
      "\n",
      "                                            keywords  \n",
      "0  [{\"id\": 1463, \"name\": \"culture clash\"}, {\"id\":...  \n",
      "1  [{\"id\": 270, \"name\": \"ocean\"}, {\"id\": 726, \"na...  \n",
      "2  [{\"id\": 470, \"name\": \"spy\"}, {\"id\": 818, \"name...  \n",
      "3  [{\"id\": 849, \"name\": \"dc comics\"}, {\"id\": 853,...  \n",
      "4  [{\"id\": 818, \"name\": \"based on novel\"}, {\"id\":...  \n"
     ]
    }
   ],
   "source": [
    "# Select specific columns from the movies dataset\n",
    "print(movies[['id', 'title', 'overview', 'genres', 'keywords']].head())\n"
   ]
  },
  {
   "cell_type": "code",
   "execution_count": 11,
   "id": "532f3998-094f-40a8-b71a-c41691f889cd",
   "metadata": {},
   "outputs": [
    {
     "name": "stdout",
     "output_type": "stream",
     "text": [
      "budget                     0\n",
      "genres                     0\n",
      "homepage                3091\n",
      "id                         0\n",
      "keywords                   0\n",
      "original_language          0\n",
      "original_title             0\n",
      "overview                   3\n",
      "popularity                 0\n",
      "production_companies       0\n",
      "production_countries       0\n",
      "release_date               1\n",
      "revenue                    0\n",
      "runtime                    2\n",
      "spoken_languages           0\n",
      "status                     0\n",
      "tagline                  844\n",
      "title                      0\n",
      "vote_average               0\n",
      "vote_count                 0\n",
      "dtype: int64\n"
     ]
    }
   ],
   "source": [
    "# Check for missing values\n",
    "print(movies.isnull().sum())\n"
   ]
  },
  {
   "cell_type": "code",
   "execution_count": 12,
   "id": "3e7d240a-a2e8-444f-8709-b15f9865e150",
   "metadata": {},
   "outputs": [],
   "source": [
    "# Drop rows with missing values\n",
    "movies.dropna(inplace=True)\n"
   ]
  },
  {
   "cell_type": "code",
   "execution_count": 13,
   "id": "9df07363-8e20-4fba-b718-151f1bd06099",
   "metadata": {},
   "outputs": [
    {
     "name": "stdout",
     "output_type": "stream",
     "text": [
      "0\n"
     ]
    }
   ],
   "source": [
    "# Check for duplicates\n",
    "print(movies.duplicated().sum())\n"
   ]
  },
  {
   "cell_type": "code",
   "execution_count": 14,
   "id": "55229ce4-56e8-424d-86a6-0577ee411699",
   "metadata": {},
   "outputs": [
    {
     "name": "stdout",
     "output_type": "stream",
     "text": [
      "[{\"id\": 28, \"name\": \"Action\"}, {\"id\": 12, \"name\": \"Adventure\"}, {\"id\": 14, \"name\": \"Fantasy\"}, {\"id\": 878, \"name\": \"Science Fiction\"}]\n"
     ]
    }
   ],
   "source": [
    "# View the 'genres' column of the first row (before applying the conversion)\n",
    "print(movies.iloc[0].genres)\n"
   ]
  },
  {
   "cell_type": "code",
   "execution_count": 15,
   "id": "2eba901c-badc-482b-863c-52f9f130b83a",
   "metadata": {},
   "outputs": [],
   "source": [
    "# Define the function to convert the 'genres' and 'keywords' columns\n",
    "def convert(obj):\n",
    "    L = []\n",
    "    # Safely evaluate the string representation of the list of dictionaries\n",
    "    try:\n",
    "        for i in ast.literal_eval(obj):  # ast.literal_eval safely parses the string to list/dict\n",
    "            L.append(i['name'])  # Extract the 'name' of each genre or keyword\n",
    "    except (ValueError, SyntaxError):\n",
    "        return []  # Return an empty list if there is any issue\n",
    "    return L\n"
   ]
  },
  {
   "cell_type": "code",
   "execution_count": 16,
   "id": "049804fd-3260-4776-b484-6ee58de5797a",
   "metadata": {},
   "outputs": [],
   "source": [
    "# Apply the convert function to the 'genres' column\n",
    "movies['genres'] = movies['genres'].apply(convert)"
   ]
  },
  {
   "cell_type": "code",
   "execution_count": 17,
   "id": "686735f6-2c46-4856-a6f5-eb48ecc85057",
   "metadata": {},
   "outputs": [],
   "source": [
    "# Apply the convert function to the 'keywords' column\n",
    "movies['keywords'] = movies['keywords'].apply(convert)\n"
   ]
  },
  {
   "cell_type": "code",
   "execution_count": null,
   "id": "893853c1-9ffd-45f9-9938-7a3d36497472",
   "metadata": {},
   "outputs": [],
   "source": []
  },
  {
   "cell_type": "code",
   "execution_count": 18,
   "id": "be312e30-a58b-4c79-bdfd-181a37caebd9",
   "metadata": {},
   "outputs": [
    {
     "name": "stdout",
     "output_type": "stream",
     "text": [
      "                                      title  \\\n",
      "0                                    Avatar   \n",
      "1  Pirates of the Caribbean: At World's End   \n",
      "2                                   Spectre   \n",
      "3                     The Dark Knight Rises   \n",
      "4                               John Carter   \n",
      "\n",
      "                                          genres  \\\n",
      "0  [Action, Adventure, Fantasy, Science Fiction]   \n",
      "1                   [Adventure, Fantasy, Action]   \n",
      "2                     [Action, Adventure, Crime]   \n",
      "3               [Action, Crime, Drama, Thriller]   \n",
      "4           [Action, Adventure, Science Fiction]   \n",
      "\n",
      "                                            keywords  \n",
      "0  [culture clash, future, space war, space colon...  \n",
      "1  [ocean, drug abuse, exotic island, east india ...  \n",
      "2  [spy, based on novel, secret agent, sequel, mi...  \n",
      "3  [dc comics, crime fighter, terrorist, secret i...  \n",
      "4  [based on novel, mars, medallion, space travel...  \n"
     ]
    }
   ],
   "source": [
    "# View the transformed 'genres' and 'keywords' columns\n",
    "print(movies[['title', 'genres', 'keywords']].head())"
   ]
  },
  {
   "cell_type": "code",
   "execution_count": 19,
   "id": "6878144d-6016-4ccf-84fa-bf254e330d18",
   "metadata": {},
   "outputs": [],
   "source": [
    "# Process the 'overview' column by splitting it into words\n",
    "movies['overview'] = movies['overview'].apply(lambda x: x.split())"
   ]
  },
  {
   "cell_type": "code",
   "execution_count": 20,
   "id": "eb8764fb-3270-471b-8972-0de5b180a6f3",
   "metadata": {},
   "outputs": [
    {
     "name": "stdout",
     "output_type": "stream",
     "text": [
      "                                      title  \\\n",
      "0                                    Avatar   \n",
      "1  Pirates of the Caribbean: At World's End   \n",
      "2                                   Spectre   \n",
      "3                     The Dark Knight Rises   \n",
      "4                               John Carter   \n",
      "\n",
      "                                            overview  \n",
      "0  [In, the, 22nd, century,, a, paraplegic, Marin...  \n",
      "1  [Captain, Barbossa,, long, believed, to, be, d...  \n",
      "2  [A, cryptic, message, from, Bond’s, past, send...  \n",
      "3  [Following, the, death, of, District, Attorney...  \n",
      "4  [John, Carter, is, a, war-weary,, former, mili...  \n"
     ]
    }
   ],
   "source": [
    "# View the transformed 'overview' column\n",
    "print(movies[['title', 'overview']].head())"
   ]
  },
  {
   "cell_type": "code",
   "execution_count": 21,
   "id": "8342ad61-cca5-4b85-9910-c4364553eb68",
   "metadata": {},
   "outputs": [],
   "source": [
    "# Remove spaces in genres and keywords\n",
    "movies['genres'] = movies['genres'].apply(lambda x: [i.replace(\" \", \"\") for i in x])\n",
    "movies['keywords'] = movies['keywords'].apply(lambda x: [i.replace(\" \", \"\") for i in x])\n"
   ]
  },
  {
   "cell_type": "code",
   "execution_count": 22,
   "id": "e603e1f6-f699-4980-99cc-2803a72dabe8",
   "metadata": {},
   "outputs": [
    {
     "name": "stdout",
     "output_type": "stream",
     "text": [
      "                                      title  \\\n",
      "0                                    Avatar   \n",
      "1  Pirates of the Caribbean: At World's End   \n",
      "2                                   Spectre   \n",
      "3                     The Dark Knight Rises   \n",
      "4                               John Carter   \n",
      "\n",
      "                                         genres  \n",
      "0  [Action, Adventure, Fantasy, ScienceFiction]  \n",
      "1                  [Adventure, Fantasy, Action]  \n",
      "2                    [Action, Adventure, Crime]  \n",
      "3              [Action, Crime, Drama, Thriller]  \n",
      "4           [Action, Adventure, ScienceFiction]  \n",
      "                                      title  \\\n",
      "0                                    Avatar   \n",
      "1  Pirates of the Caribbean: At World's End   \n",
      "2                                   Spectre   \n",
      "3                     The Dark Knight Rises   \n",
      "4                               John Carter   \n",
      "\n",
      "                                            keywords  \n",
      "0  [cultureclash, future, spacewar, spacecolony, ...  \n",
      "1  [ocean, drugabuse, exoticisland, eastindiatrad...  \n",
      "2  [spy, basedonnovel, secretagent, sequel, mi6, ...  \n",
      "3  [dccomics, crimefighter, terrorist, secretiden...  \n",
      "4  [basedonnovel, mars, medallion, spacetravel, p...  \n"
     ]
    }
   ],
   "source": [
    "# View the transformed genres and keywords\n",
    "print(movies[['title', 'genres']].head())\n",
    "print(movies[['title', 'keywords']].head())"
   ]
  },
  {
   "cell_type": "code",
   "execution_count": 23,
   "id": "a1aee19a-630b-4310-b296-6ba29a049c33",
   "metadata": {},
   "outputs": [],
   "source": [
    "# Create the tags column by combining overview, genres, and keywords\n",
    "# Ensure all parts are concatenated properly\n",
    "movies['tags'] = movies['overview'] + movies['genres'] + movies['keywords']\n"
   ]
  },
  {
   "cell_type": "code",
   "execution_count": 24,
   "id": "0b2fba4f-e21c-4c09-80d2-6937389fa22c",
   "metadata": {},
   "outputs": [],
   "source": [
    "# Optional: Join tags into a single string per movie\n",
    "movies['tags'] = movies['tags'].apply(lambda x: ' '.join(x))  # Join the list into a single string\n"
   ]
  },
  {
   "cell_type": "code",
   "execution_count": 25,
   "id": "0120f54a-cf38-4fae-b7c4-a753a6f05c22",
   "metadata": {},
   "outputs": [
    {
     "name": "stdout",
     "output_type": "stream",
     "text": [
      "                                      title  \\\n",
      "0                                    Avatar   \n",
      "1  Pirates of the Caribbean: At World's End   \n",
      "2                                   Spectre   \n",
      "3                     The Dark Knight Rises   \n",
      "4                               John Carter   \n",
      "\n",
      "                                                tags  \n",
      "0  In the 22nd century, a paraplegic Marine is di...  \n",
      "1  Captain Barbossa, long believed to be dead, ha...  \n",
      "2  A cryptic message from Bond’s past sends him o...  \n",
      "3  Following the death of District Attorney Harve...  \n",
      "4  John Carter is a war-weary, former military ca...  \n"
     ]
    }
   ],
   "source": [
    "# View the first few rows of the dataset with the new tags column\n",
    "print(movies[['title', 'tags']].head())"
   ]
  },
  {
   "cell_type": "code",
   "execution_count": 26,
   "id": "30d221c0-5afe-41d6-88b9-0b9828b7b3d2",
   "metadata": {},
   "outputs": [],
   "source": [
    "new_df = movies[['id', 'title', 'tags']]"
   ]
  },
  {
   "cell_type": "code",
   "execution_count": 27,
   "id": "d0142603-ebad-4262-9173-dbd3f9998373",
   "metadata": {},
   "outputs": [
    {
     "name": "stdout",
     "output_type": "stream",
     "text": [
      "       id                                     title  \\\n",
      "0   19995                                    Avatar   \n",
      "1     285  Pirates of the Caribbean: At World's End   \n",
      "2  206647                                   Spectre   \n",
      "3   49026                     The Dark Knight Rises   \n",
      "4   49529                               John Carter   \n",
      "\n",
      "                                                tags  \n",
      "0  In the 22nd century, a paraplegic Marine is di...  \n",
      "1  Captain Barbossa, long believed to be dead, ha...  \n",
      "2  A cryptic message from Bond’s past sends him o...  \n",
      "3  Following the death of District Attorney Harve...  \n",
      "4  John Carter is a war-weary, former military ca...  \n"
     ]
    }
   ],
   "source": [
    "print(new_df.head())"
   ]
  },
  {
   "cell_type": "code",
   "execution_count": null,
   "id": "cd7fbee5-9a26-4dcb-9363-6259d9d6286c",
   "metadata": {},
   "outputs": [],
   "source": []
  },
  {
   "cell_type": "code",
   "execution_count": 28,
   "id": "c48a7dea-effc-4cba-a34c-207d2ebfc619",
   "metadata": {},
   "outputs": [],
   "source": [
    "#new_df['tags']= new_df['tags'].apply(lambda x:\" \".join(x))"
   ]
  },
  {
   "cell_type": "code",
   "execution_count": 29,
   "id": "b50fe924-4e10-4513-a03d-a619b2afad6b",
   "metadata": {},
   "outputs": [],
   "source": [
    "#print(new_df['tags'].head())"
   ]
  },
  {
   "cell_type": "code",
   "execution_count": 30,
   "id": "8287374b-54ba-4a08-8f35-97863452fa46",
   "metadata": {},
   "outputs": [
    {
     "data": {
      "text/plain": [
       "'In the 22nd century, a paraplegic Marine is dispatched to the moon Pandora on a unique mission, but becomes torn between following orders and protecting an alien civilization. Action Adventure Fantasy ScienceFiction cultureclash future spacewar spacecolony society spacetravel futuristic romance space alien tribe alienplanet cgi marine soldier battle loveaffair antiwar powerrelations mindandsoul 3d'"
      ]
     },
     "execution_count": 30,
     "metadata": {},
     "output_type": "execute_result"
    }
   ],
   "source": [
    "new_df['tags'][0]"
   ]
  },
  {
   "cell_type": "code",
   "execution_count": 31,
   "id": "1b801efc-eacc-4491-a4a0-1e8457988269",
   "metadata": {},
   "outputs": [],
   "source": [
    "# Convert the tags to lowercase\n",
    "movies['tags'] = movies['tags'].apply(lambda x: x.lower())\n"
   ]
  },
  {
   "cell_type": "code",
   "execution_count": 32,
   "id": "b27765ad-0e3a-442d-970f-7e44e8c64497",
   "metadata": {
    "jupyter": {
     "source_hidden": true
    }
   },
   "outputs": [
    {
     "name": "stdout",
     "output_type": "stream",
     "text": [
      "0    in the 22nd century, a paraplegic marine is di...\n",
      "1    captain barbossa, long believed to be dead, ha...\n",
      "2    a cryptic message from bond’s past sends him o...\n",
      "3    following the death of district attorney harve...\n",
      "4    john carter is a war-weary, former military ca...\n",
      "Name: tags, dtype: object\n"
     ]
    }
   ],
   "source": [
    "print(movies['tags'].head())"
   ]
  },
  {
   "cell_type": "code",
   "execution_count": 33,
   "id": "ce9190d5-85f1-4bec-a8a1-5daa88eed02a",
   "metadata": {},
   "outputs": [],
   "source": [
    "cv = CountVectorizer(max_features=5000, stop_words='english')"
   ]
  },
  {
   "cell_type": "code",
   "execution_count": 34,
   "id": "06b381c1-7bd8-4ab9-97b5-2ace4a7cc883",
   "metadata": {},
   "outputs": [],
   "source": [
    "vectorized_data = cv.fit_transform(new_df['tags']).toarray()"
   ]
  },
  {
   "cell_type": "code",
   "execution_count": 35,
   "id": "0bca3d1e-787f-4f02-9588-beacb161f40c",
   "metadata": {},
   "outputs": [
    {
     "name": "stdout",
     "output_type": "stream",
     "text": [
      "(1493, 5000)\n"
     ]
    }
   ],
   "source": [
    "print(vectorized_data.shape)"
   ]
  },
  {
   "cell_type": "code",
   "execution_count": 36,
   "id": "e491d575-8cf8-46ec-a3eb-99e7c64c7102",
   "metadata": {},
   "outputs": [
    {
     "name": "stdout",
     "output_type": "stream",
     "text": [
      "[[0 0 0 ... 0 0 0]\n",
      " [0 0 0 ... 0 0 0]\n",
      " [0 0 0 ... 0 0 0]\n",
      " ...\n",
      " [0 0 0 ... 0 0 0]\n",
      " [0 0 0 ... 0 0 0]\n",
      " [0 0 0 ... 0 0 0]]\n"
     ]
    }
   ],
   "source": [
    "print(vectorized_data)"
   ]
  },
  {
   "cell_type": "code",
   "execution_count": 37,
   "id": "f34a969a-ef79-445b-a2ab-44ac3ef740fe",
   "metadata": {},
   "outputs": [
    {
     "name": "stdout",
     "output_type": "stream",
     "text": [
      "[0 0 0 ... 0 0 0]\n"
     ]
    }
   ],
   "source": [
    "print(vectorized_data[0])"
   ]
  },
  {
   "cell_type": "code",
   "execution_count": 38,
   "id": "6d4cea86-14a2-46c8-a9c0-430892af049d",
   "metadata": {},
   "outputs": [
    {
     "name": "stdout",
     "output_type": "stream",
     "text": [
      "[0 0 0 ... 0 0 0]\n",
      "[0 0 0 ... 0 0 0]\n"
     ]
    }
   ],
   "source": [
    "print(vectorized_data[1])\n",
    "print(vectorized_data[2])"
   ]
  },
  {
   "cell_type": "code",
   "execution_count": 39,
   "id": "0ae27d05-0b14-4556-9cf7-e83dc9565476",
   "metadata": {},
   "outputs": [
    {
     "name": "stdout",
     "output_type": "stream",
     "text": [
      "['00' '000' '007' ... 'zoo' 'zooey' 'zookeeper']\n"
     ]
    }
   ],
   "source": [
    "print(cv.get_feature_names_out())"
   ]
  },
  {
   "cell_type": "code",
   "execution_count": 40,
   "id": "2e0cdb8f-1ccf-4747-b9ce-9da00af6cd23",
   "metadata": {},
   "outputs": [],
   "source": [
    "from sklearn.metrics.pairwise import cosine_similarity"
   ]
  },
  {
   "cell_type": "code",
   "execution_count": 41,
   "id": "aa57e04b-803a-4d6f-a590-55e6d07522a1",
   "metadata": {},
   "outputs": [],
   "source": [
    "# Assuming `vectors` is the result of the CountVectorizer transformation\n",
    "similarity_matrix = cosine_similarity(vectorized_data)"
   ]
  },
  {
   "cell_type": "code",
   "execution_count": 42,
   "id": "8317c092-8903-4c78-a597-5eb63f709daa",
   "metadata": {},
   "outputs": [
    {
     "name": "stdout",
     "output_type": "stream",
     "text": [
      "(1493, 1493)\n"
     ]
    }
   ],
   "source": [
    "# View the shape of the cosine similarity matrix\n",
    "print(similarity_matrix.shape)"
   ]
  },
  {
   "cell_type": "code",
   "execution_count": 43,
   "id": "7b9bf5d8-4036-4b6e-9c5e-035b0b95ec1c",
   "metadata": {},
   "outputs": [
    {
     "name": "stdout",
     "output_type": "stream",
     "text": [
      "[[1.         0.0877058  0.05751973 ... 0.         0.0541332  0.02470831]\n",
      " [0.0877058  1.         0.06558258 ... 0.048795   0.         0.        ]\n",
      " [0.05751973 0.06558258 1.         ... 0.         0.         0.        ]\n",
      " ...\n",
      " [0.         0.048795   0.         ... 1.         0.         0.0412393 ]\n",
      " [0.0541332  0.         0.         ... 0.         1.         0.        ]\n",
      " [0.02470831 0.         0.         ... 0.0412393  0.         1.        ]]\n"
     ]
    }
   ],
   "source": [
    "# Print the similarity matrix (optional)\n",
    "print(similarity_matrix)"
   ]
  },
  {
   "cell_type": "code",
   "execution_count": 44,
   "id": "3713b6fe-cd93-4404-aa8b-1fb99d69a2ee",
   "metadata": {},
   "outputs": [
    {
     "name": "stdout",
     "output_type": "stream",
     "text": [
      "[(0, 1.0000000000000002), (1, 0.08770580193070292), (2, 0.05751973085430508), (3, 0.03698001308168194), (4, 0.17505471314812437), (5, 0.11556254088025608), (6, 0.018248296715045298), (7, 0.16526725762745997), (8, 0.05751973085430508), (9, 0.07325794357582566), (10, 0.07502344849205331), (11, 0.08920515501750789), (12, 0.04169381992250833), (13, 0.11149893466761211), (14, 0.07897471897389846), (15, 0.14011213457945124), (16, 0.10699012312772824), (17, 0.07944581222989573), (18, 0.05510387687779837), (19, 0.09421114395319916), (20, 0.05947010334500526), (21, 0.09421114395319916), (22, 0.03433508017497365), (23, 0.16477051091432687), (24, 0.11694106924093722), (25, 0.063077570029677), (26, 0.0716114874039433), (27, 0.15701857325533194), (28, 0.08968970586617499), (29, 0.09078412990032037), (30, 0.17505471314812435), (31, 0.08238525545716345), (32, 0.06004805767690767), (33, 0.08006407690254357), (34, 0.05128205128205128), (35, 0.13725270326150324), (36, 0.0), (37, 0.09342836717341034), (38, 0.04134491152973615), (39, 0.08968970586617499), (40, 0.1754116038614058), (41, 0.06477502756312958), (42, 0.11503946170861017), (43, 0.07548513560963972), (44, 0.16012815380508713), (45, 0.04721921646498856), (46, 0.03202563076101743), (47, 0.06470154480826261), (48, 0.02632490632463282), (49, 0.07299318686018119), (50, 0.025007816164017767), (51, 0.22645540682891915), (52, 0.08006407690254357), (53, 0.03026137663344012), (54, 0.019861453057473933), (55, 0.16984155512168933), (56, 0.12810252304406972), (57, 0.044036771377507694), (58, 0.08492077756084468), (59, 0.11503946170861017), (60, 0.03580574370197164), (61, 0.2172620473133704), (62, 0.07082882469748285), (63, 0.013937366833451514), (64, 0.07412493166611012), (65, 0.03285760387267628), (66, 0.09656090991705353), (67, 0.081199794294115), (68, 0.09909574797525762), (69, 0.07502344849205331), (70, 0.11322770341445956), (71, 0.08627959628145762), (72, 0.056393991258375145), (73, 0.14867525836251314), (74, 0.06201736729460422), (75, 0.1307440900921227), (76, 0.11935247900657216), (77, 0.08920515501750789), (78, 0.07792865001991967), (79, 0.0734718358370645), (80, 0.08770580193070292), (81, 0.105129283382795), (82, 0.08006407690254357), (83, 0.05847053462046861), (84, 0.10482848367219183), (85, 0.04100461840523648), (86, 0.084103426706236), (87, 0.1617875572323585), (88, 0.13533299049019168), (89, 0.04883862905055043), (90, 0.04671418358670517), (91, 0.050015632328035534), (92, 0.04774099160262886), (93, 0.06280742930213278), (94, 0.015777895820254743), (95, 0.04529108136578383), (96, 0.0), (97, 0.08920515501750789), (98, 0.09607689228305229), (99, 0.06362847629757777), (100, 0.10003126465607107), (101, 0.13030163843373951), (102, 0.08483796839677037), (103, 0.027066598098038335), (104, 0.10529962529853128), (105, 0.04134491152973615), (106, 0.032686022523030676), (107, 0.12810252304406972), (108, 0.0), (109, 0.023357091793352585), (110, 0.03285760387267628), (111, 0.07897471897389846), (112, 0.10168147934776053), (113, 0.11020775375559674), (114, 0.08627959628145762), (115, 0.06280742930213278), (116, 0.10241831129983783), (117, 0.16531163063339513), (118, 0.20016019225635892), (119, 0.06163335513613657), (120, 0.07944581222989573), (121, 0.033389028164708894), (122, 0.0), (123, 0.10241831129983783), (124, 0.06827887419989188), (125, 0.09065471553673685), (126, 0.05063696835418333), (127, 0.10895340841010223), (128, 0.08798117404291673), (129, 0.027874733666903028), (130, 0.02414022747926338), (131, 0.04575090108716775), (132, 0.03140371465106639), (133, 0.0), (134, 0.022875450543583874), (135, 0.021398024625545648), (136, 0.02120949209919259), (137, 0.10256410256410256), (138, 0.07161148740394328), (139, 0.1539670545751043), (140, 0.019277164398874672), (141, 0.0888231183368655), (142, 0.07161148740394328), (143, 0.05661385170722978), (144, 0.04622501635210243), (145, 0.06052275326688024), (146, 0.10795837927188262), (147, 0.07548513560963972), (148, 0.0), (149, 0.03026137663344012), (150, 0.023357091793352585), (151, 0.07767356373806174), (152, 0.08633531446374632), (153, 0.03580574370197164), (154, 0.020174251088960076), (155, 0.06793662204867575), (156, 0.06100888760865632), (157, 0.05492350363810897), (158, 0.042796049251091296), (159, 0.042796049251091296), (160, 0.1849000654084097), (161, 0.05404747453311749), (162, 0.05063696835418333), (163, 0.030816677568068284), (164, 0.08920515501750789), (165, 0.1235415527768502), (166, 0.07030539322372283), (167, 0.07396002616336388), (168, 0.0), (169, 0.12326671027227314), (170, 0.10741723110591492), (171, 0.06598588053218755), (172, 0.055749467333806056), (173, 0.114022293537793), (174, 0.10423454980627081), (175, 0.08006407690254357), (176, 0.08362420100070908), (177, 0.06163335513613657), (178, 0.08492077756084468), (179, 0.0), (180, 0.13655774839978377), (181, 0.019003715589632167), (182, 0.06201736729460422), (183, 0.06933752452815364), (184, 0.0), (185, 0.07767356373806174), (186, 0.08362420100070908), (187, 0.016012815380508715), (188, 0.23788041338002103), (189, 0.06726727939963124), (190, 0.0734718358370645), (191, 0.030816677568068284), (192, 0.09548198320525772), (193, 0.075955452531275), (194, 0.0595843591724218), (195, 0.0), (196, 0.07242068243779014), (197, 0.0), (198, 0.019861453057473933), (199, 0.020336295869552105), (200, 0.02120949209919259), (201, 0.027066598098038335), (202, 0.06405126152203486), (203, 0.09607689228305229), (204, 0.030816677568068284), (205, 0.10826639239215335), (206, 0.038277950117547636), (207, 0.0), (208, 0.17476551841063892), (209, 0.05661385170722978), (210, 0.0869839312029283), (211, 0.06537204504606135), (212, 0.0335719831132296), (213, 0.10826639239215334), (214, 0.07548513560963972), (215, 0.0), (216, 0.0), (217, 0.03140371465106639), (218, 0.09805806756909202), (219, 0.05661385170722978), (220, 0.027874733666903028), (221, 0.0), (222, 0.07792865001991967), (223, 0.10390486669322622), (224, 0.04671418358670517), (225, 0.053376051268362375), (226, 0.023357091793352585), (227, 0.05661385170722978), (228, 0.12773807700531709), (229, 0.021591675854376526), (230, 0.0), (231, 0.05661385170722978), (232, 0.0), (233, 0.02120949209919259), (234, 0.0), (235, 0.08627959628145762), (236, 0.0), (237, 0.06280742930213278), (238, 0.06163335513613657), (239, 0.05492350363810897), (240, 0.09805806756909202), (241, 0.07897471897389846), (242, 0.0), (243, 0.12561485860426555), (244, 0.05492350363810897), (245, 0.03698001308168194), (246, 0.027874733666903028), (247, 0.0), (248, 0.0), (249, 0.021995293510729184), (250, 0.0), (251, 0.10482848367219183), (252, 0.027461751819054483), (253, 0.05370861555295746), (254, 0.03140371465106639), (255, 0.02632490632463282), (256, 0.05492350363810897), (257, 0.055749467333806056), (258, 0.0), (259, 0.024419314525275217), (260, 0.08362420100070908), (261, 0.05063696835418333), (262, 0.06405126152203486), (263, 0.029235267310234306), (264, 0.021025856676559), (265, 0.02120949209919259), (266, 0.03413943709994594), (267, 0.05264981264926564), (268, 0.06827887419989188), (269, 0.03774256780481986), (270, 0.0716114874039433), (271, 0.050015632328035534), (272, 0.04034850217792015), (273, 0.06862635163075162), (274, 0.055470019622522904), (275, 0.02875986542715254), (276, 0.032686022523030676), (277, 0.03494282789073061), (278, 0.0), (279, 0.02830692585361489), (280, 0.03140371465106639), (281, 0.02830692585361489), (282, 0.03026137663344012), (283, 0.037229039552497), (284, 0.027874733666903028), (285, 0.20033416898825335), (286, 0.06661733875264912), (287, 0.09883324222148016), (288, 0.10241831129983783), (289, 0.0900791242218625), (290, 0.02973505167250263), (291, 0.05272904491779212), (292, 0.0), (293, 0.146943671674129), (294, 0.01887128390240993), (295, 0.0), (296, 0.21483446221182984), (297, 0.0), (298, 0.0826898230594723), (299, 0.0), (300, 0.03673591791853225), (301, 0.10256410256410256), (302, 0.05947010334500526), (303, 0.04941662111074008), (304, 0.02470831055537004), (305, 0.0), (306, 0.026688025634181187), (307, 0.04441155916843275), (308, 0.0), (309, 0.0), (310, 0.09805806756909202), (311, 0.06677805632941779), (312, 0.06677805632941779), (313, 0.0888231183368655), (314, 0.06677805632941779), (315, 0.08238525545716345), (316, 0.12659242088545833), (317, 0.026688025634181187), (318, 0.042051713353118), (319, 0.0), (320, 0.032686022523030676), (321, 0.0), (322, 0.0), (323, 0.04034850217792015), (324, 0.022205779584216375), (325, 0.14617633655117152), (326, 0.023357091793352585), (327, 0.021025856676559), (328, 0.02387049580131443), (329, 0.13937366833451514), (330, 0.05868830272850543), (331, 0.23112508176051216), (332, 0.0), (333, 0.04622501635210243), (334, 0.027461751819054483), (335, 0.07502344849205331), (336, 0.0), (337, 0.05195243334661311), (338, 0.04134491152973615), (339, 0.06827887419989188), (340, 0.0), (341, 0.0), (342, 0.063077570029677), (343, 0.04441155916843275), (344, 0.023357091793352585), (345, 0.06537204504606134), (346, 0.055749467333806056), (347, 0.07325794357582566), (348, 0.0), (349, 0.06827887419989188), (350, 0.019861453057473933), (351, 0.0), (352, 0.03026137663344012), (353, 0.02120949209919259), (354, 0.08238525545716345), (355, 0.08920515501750789), (356, 0.05063696835418333), (357, 0.03494282789073061), (358, 0.0), (359, 0.0), (360, 0.10826639239215334), (361, 0.04828045495852676), (362, 0.0), (363, 0.0), (364, 0.018248296715045298), (365, 0.12009611535381534), (366, 0.0826898230594723), (367, 0.03413943709994594), (368, 0.05063696835418333), (369, 0.0), (370, 0.05195243334661311), (371, 0.06677805632941779), (372, 0.03580574370197164), (373, 0.05195243334661311), (374, 0.05264981264926564), (375, 0.022875450543583874), (376, 0.07325794357582566), (377, 0.04828045495852676), (378, 0.0), (379, 0.08006407690254357), (380, 0.022422426466543747), (381, 0.0), (382, 0.0), (383, 0.11322770341445956), (384, 0.04828045495852676), (385, 0.0), (386, 0.02632490632463282), (387, 0.10241831129983783), (388, 0.11437725271791938), (389, 0.0), (390, 0.021398024625545648), (391, 0.06827887419989188), (392, 0.030816677568068284), (393, 0.06052275326688024), (394, 0.02360960823249428), (395, 0.024419314525275217), (396, 0.02360960823249428), (397, 0.0), (398, 0.10016708449412667), (399, 0.0), (400, 0.0), (401, 0.026688025634181187), (402, 0.0), (403, 0.025318484177091666), (404, 0.0), (405, 0.07082882469748285), (406, 0.015553021195625068), (407, 0.04883862905055043), (408, 0.04003203845127178), (409, 0.05751973085430508), (410, 0.05661385170722978), (411, 0.022645540682891915), (412, 0.0), (413, 0.04721921646498856), (414, 0.03673591791853225), (415, 0.13533299049019168), (416, 0.026688025634181187), (417, 0.02830692585361489), (418, 0.0), (419, 0.04941662111074008), (420, 0.063077570029677), (421, 0.08559209850218259), (422, 0.10087125544480038), (423, 0.12503908082008883), (424, 0.10016708449412667), (425, 0.0716114874039433), (426, 0.03413943709994594), (427, 0.07412493166611012), (428, 0.04441155916843275), (429, 0.06661733875264912), (430, 0.09607689228305229), (431, 0.05413319619607667), (432, 0.02360960823249428), (433, 0.0), (434, 0.08951435925492911), (435, 0.08006407690254357), (436, 0.0), (437, 0.05195243334661311), (438, 0.055749467333806056), (439, 0.053376051268362375), (440, 0.025976216673306556), (441, 0.03140371465106639), (442, 0.0), (443, 0.02830692585361489), (444, 0.06477502756312958), (445, 0.0), (446, 0.0), (447, 0.05282859011668849), (448, 0.0), (449, 0.0), (450, 0.015933346823572687), (451, 0.04318335170875305), (452, 0.0), (453, 0.0), (454, 0.03026137663344012), (455, 0.02470831055537004), (456, 0.0), (457, 0.029235267310234306), (458, 0.029235267310234306), (459, 0.0), (460, 0.07897471897389846), (461, 0.05404747453311749), (462, 0.04774099160262886), (463, 0.0), (464, 0.04441155916843275), (465, 0.019277164398874672), (466, 0.09656090991705352), (467, 0.07692307692307693), (468, 0.10984700727621793), (469, 0.03413943709994594), (470, 0.07412493166611012), (471, 0.0), (472, 0.021591675854376526), (473, 0.03580574370197164), (474, 0.0), (475, 0.03026137663344012), (476, 0.0), (477, 0.0), (478, 0.09607689228305229), (479, 0.020174251088960076), (480, 0.0), (481, 0.04721921646498856), (482, 0.07325794357582566), (483, 0.1148338503526429), (484, 0.0), (485, 0.02973505167250263), (486, 0.0), (487, 0.0), (488, 0.0), (489, 0.08920515501750789), (490, 0.04883862905055043), (491, 0.0), (492, 0.04003203845127178), (493, 0.0), (494, 0.0), (495, 0.07412493166611012), (496, 0.09245003270420485), (497, 0.04241898419838518), (498, 0.0), (499, 0.030816677568068284), (500, 0.0), (501, 0.07325794357582566), (502, 0.0), (503, 0.04622501635210243), (504, 0.06477502756312958), (505, 0.04941662111074008), (506, 0.04828045495852676), (507, 0.07242068243779014), (508, 0.022205779584216375), (509, 0.050015632328035534), (510, 0.05264981264926564), (511, 0.1316245316231641), (512, 0.04441155916843275), (513, 0.0), (514, 0.0), (515, 0.0), (516, 0.0), (517, 0.03473667371459374), (518, 0.02875986542715254), (519, 0.02973505167250263), (520, 0.06052275326688024), (521, 0.0), (522, 0.06405126152203486), (523, 0.055749467333806056), (524, 0.081199794294115), (525, 0.09767725810110087), (526, 0.09370791409872918), (527, 0.07082882469748285), (528, 0.05492350363810897), (529, 0.020336295869552105), (530, 0.022645540682891915), (531, 0.039722906114947866), (532, 0.04441155916843275), (533, 0.0), (534, 0.03202563076101743), (535, 0.08006407690254357), (536, 0.032686022523030676), (537, 0.02360960823249428), (538, 0.025976216673306556), (539, 0.04622501635210243), (540, 0.021591675854376526), (541, 0.025007816164017767), (542, 0.022875450543583874), (543, 0.05413319619607667), (544, 0.037483165639491674), (545, 0.04622501635210243), (546, 0.08920515501750789), (547, 0.024419314525275217), (548, 0.04774099160262886), (549, 0.027874733666903028), (550, 0.0), (551, 0.03413943709994594), (552, 0.04529108136578383), (553, 0.10741723110591492), (554, 0.023357091793352585), (555, 0.08362420100070908), (556, 0.0), (557, 0.0), (558, 0.027874733666903028), (559, 0.06598588053218755), (560, 0.06988565578146122), (561, 0.0), (562, 0.0), (563, 0.033389028164708894), (564, 0.025007816164017767), (565, 0.030816677568068284), (566, 0.0), (567, 0.0), (568, 0.0), (569, 0.0), (570, 0.04441155916843275), (571, 0.0), (572, 0.02875986542715254), (573, 0.02830692585361489), (574, 0.1921537845661046), (575, 0.04169381992250833), (576, 0.08492077756084468), (577, 0.03413943709994594), (578, 0.0), (579, 0.23000322710873397), (580, 0.13533299049019168), (581, 0.0), (582, 0.02360960823249428), (583, 0.0), (584, 0.0), (585, 0.02632490632463282), (586, 0.019418390934515434), (587, 0.0), (588, 0.025318484177091666), (589, 0.0), (590, 0.026688025634181187), (591, 0.08006407690254357), (592, 0.030816677568068284), (593, 0.05063696835418333), (594, 0.12104550653376048), (595, 0.0), (596, 0.0), (597, 0.04828045495852676), (598, 0.08362420100070908), (599, 0.0), (600, 0.0), (601, 0.06726727939963124), (602, 0.06405126152203486), (603, 0.04134491152973615), (604, 0.0), (605, 0.03673591791853225), (606, 0.0), (607, 0.1706971854997297), (608, 0.1283881477532739), (609, 0.06726727939963124), (610, 0.20033416898825337), (611, 0.0), (612, 0.0), (613, 0.021995293510729184), (614, 0.0), (615, 0.0186145197762485), (616, 0.02973505167250263), (617, 0.0), (618, 0.06419407387663695), (619, 0.0), (620, 0.06201736729460422), (621, 0.06405126152203486), (622, 0.07767356373806174), (623, 0.02973505167250263), (624, 0.0), (625, 0.08798117404291673), (626, 0.0), (627, 0.0), (628, 0.0), (629, 0.06201736729460422), (630, 0.02470831055537004), (631, 0.0), (632, 0.0), (633, 0.06988565578146122), (634, 0.0), (635, 0.021790681682020446), (636, 0.03140371465106639), (637, 0.0), (638, 0.0), (639, 0.0), (640, 0.08362420100070908), (641, 0.030816677568068284), (642, 0.084103426706236), (643, 0.027874733666903028), (644, 0.01790287185098582), (645, 0.0), (646, 0.0), (647, 0.0), (648, 0.04003203845127178), (649, 0.01562690769794985), (650, 0.0), (651, 0.02973505167250263), (652, 0.0), (653, 0.03883678186903087), (654, 0.0), (655, 0.0), (656, 0.0335719831132296), (657, 0.025007816164017767), (658, 0.022205779584216375), (659, 0.021025856676559), (660, 0.03494282789073061), (661, 0.04883862905055043), (662, 0.09607689228305229), (663, 0.026688025634181187), (664, 0.05913123959890826), (665, 0.14322297480788657), (666, 0.033389028164708894), (667, 0.033389028164708894), (668, 0.08483796839677037), (669, 0.0), (670, 0.0), (671, 0.024419314525275217), (672, 0.029235267310234306), (673, 0.020174251088960076), (674, 0.025976216673306556), (675, 0.11556254088025608), (676, 0.0), (677, 0.08362420100070908), (678, 0.02050230920261824), (679, 0.04671418358670517), (680, 0.044844852933087494), (681, 0.17093520167692652), (682, 0.0), (683, 0.0), (684, 0.036031649688745), (685, 0.0), (686, 0.07792865001991967), (687, 0.0), (688, 0.025007816164017767), (689, 0.02875986542715254), (690, 0.017792017089454125), (691, 0.02050230920261824), (692, 0.11566298639324804), (693, 0.018741582819745837), (694, 0.032686022523030676), (695, 0.0), (696, 0.0), (697, 0.04721921646498856), (698, 0.04399058702145837), (699, 0.026688025634181187), (700, 0.0), (701, 0.06477502756312958), (702, 0.0), (703, 0.06827887419989188), (704, 0.06052275326688024), (705, 0.04100461840523648), (706, 0.0), (707, 0.0), (708, 0.02632490632463282), (709, 0.11149893466761211), (710, 0.03580574370197164), (711, 0.0), (712, 0.0), (713, 0.0), (714, 0.05272904491779212), (715, 0.0), (716, 0.020174251088960076), (717, 0.0806970043558403), (718, 0.02564102564102564), (719, 0.025976216673306556), (720, 0.02470831055537004), (721, 0.022422426466543747), (722, 0.01813094310734737), (723, 0.0), (724, 0.05913123959890826), (725, 0.0), (726, 0.029235267310234306), (727, 0.0), (728, 0.0), (729, 0.03026137663344012), (730, 0.05180118867824779), (731, 0.04399058702145837), (732, 0.06362847629757777), (733, 0.03774256780481986), (734, 0.09245003270420485), (735, 0.05195243334661311), (736, 0.0), (737, 0.07082882469748285), (738, 0.0), (739, 0.05661385170722978), (740, 0.0), (741, 0.0), (742, 0.0), (743, 0.05847053462046861), (744, 0.05264981264926564), (745, 0.023357091793352585), (746, 0.10482848367219183), (747, 0.0), (748, 0.04575090108716775), (749, 0.02973505167250263), (750, 0.12201777521731262), (751, 0.0), (752, 0.038007431179264334), (753, 0.05492350363810897), (754, 0.03202563076101743), (755, 0.0), (756, 0.022205779584216375), (757, 0.0), (758, 0.0), (759, 0.023112508176051216), (760, 0.0), (761, 0.0734718358370645), (762, 0.07161148740394328), (763, 0.018248296715045298), (764, 0.0), (765, 0.0), (766, 0.050015632328035534), (767, 0.042051713353118), (768, 0.04828045495852676), (769, 0.0), (770, 0.02470831055537004), (771, 0.029235267310234306), (772, 0.023112508176051216), (773, 0.03140371465106639), (774, 0.0), (775, 0.0), (776, 0.0), (777, 0.0), (778, 0.08716272672808179), (779, 0.02470831055537004), (780, 0.02414022747926338), (781, 0.03673591791853225), (782, 0.02973505167250263), (783, 0.0), (784, 0.03026137663344012), (785, 0.0186145197762485), (786, 0.0), (787, 0.03140371465106639), (788, 0.01849000654084097), (789, 0.0), (790, 0.0), (791, 0.0), (792, 0.063077570029677), (793, 0.03413943709994594), (794, 0.0503579746698444), (795, 0.0), (796, 0.0), (797, 0.0), (798, 0.09656090991705352), (799, 0.08200923681047297), (800, 0.06827887419989188), (801, 0.0), (802, 0.0), (803, 0.02973505167250263), (804, 0.13344012817090595), (805, 0.0), (806, 0.026688025634181187), (807, 0.0), (808, 0.03140371465106639), (809, 0.0), (810, 0.0), (811, 0.0), (812, 0.0), (813, 0.042796049251091296), (814, 0.042796049251091296), (815, 0.022875450543583874), (816, 0.044844852933087494), (817, 0.0), (818, 0.06598588053218755), (819, 0.0), (820, 0.04318335170875305), (821, 0.08968970586617499), (822, 0.02470831055537004), (823, 0.025976216673306556), (824, 0.10529962529853128), (825, 0.02564102564102564), (826, 0.027874733666903028), (827, 0.03202563076101743), (828, 0.0), (829, 0.07007127538005775), (830, 0.06280742930213278), (831, 0.03026137663344012), (832, 0.0), (833, 0.04774099160262886), (834, 0.0), (835, 0.0), (836, 0.0), (837, 0.07082882469748285), (838, 0.06827887419989188), (839, 0.0), (840, 0.03413943709994594), (841, 0.0), (842, 0.03026137663344012), (843, 0.0), (844, 0.0), (845, 0.02050230920261824), (846, 0.0), (847, 0.0), (848, 0.053376051268362375), (849, 0.0), (850, 0.0), (851, 0.0), (852, 0.0), (853, 0.03580574370197164), (854, 0.035366392784487034), (855, 0.0), (856, 0.0), (857, 0.0), (858, 0.0), (859, 0.0), (860, 0.023357091793352585), (861, 0.03096034584137879), (862, 0.0), (863, 0.03698001308168194), (864, 0.0), (865, 0.022422426466543747), (866, 0.03202563076101743), (867, 0.06052275326688024), (868, 0.07792865001991967), (869, 0.029235267310234306), (870, 0.0), (871, 0.04067259173910421), (872, 0.05264981264926564), (873, 0.026688025634181187), (874, 0.0), (875, 0.02830692585361489), (876, 0.024419314525275217), (877, 0.021995293510729184), (878, 0.0), (879, 0.0), (880, 0.0), (881, 0.03494282789073061), (882, 0.04575090108716775), (883, 0.07884165279854434), (884, 0.1951231356683212), (885, 0.029235267310234306), (886, 0.0), (887, 0.04399058702145837), (888, 0.0), (889, 0.03580574370197164), (890, 0.0), (891, 0.0), (892, 0.02470831055537004), (893, 0.032686022523030676), (894, 0.053376051268362375), (895, 0.03413943709994594), (896, 0.0), (897, 0.0), (898, 0.07502344849205331), (899, 0.0), (900, 0.0), (901, 0.0), (902, 0.0), (903, 0.08920515501750789), (904, 0.0), (905, 0.0), (906, 0.027461751819054483), (907, 0.06537204504606135), (908, 0.025007816164017767), (909, 0.0), (910, 0.0), (911, 0.0), (912, 0.06598588053218755), (913, 0.012988108336653278), (914, 0.029235267310234306), (915, 0.050015632328035534), (916, 0.0), (917, 0.08770580193070292), (918, 0.04529108136578383), (919, 0.02001601922563589), (920, 0.0), (921, 0.08006407690254357), (922, 0.0), (923, 0.08006407690254357), (924, 0.0), (925, 0.0), (926, 0.0), (927, 0.0), (928, 0.0), (929, 0.030816677568068284), (930, 0.02414022747926338), (931, 0.0), (932, 0.0), (933, 0.023112508176051216), (934, 0.022875450543583874), (935, 0.02632490632463282), (936, 0.023357091793352585), (937, 0.026688025634181187), (938, 0.022422426466543747), (939, 0.08006407690254357), (940, 0.0), (941, 0.0), (942, 0.0), (943, 0.0), (944, 0.04318335170875305), (945, 0.0), (946, 0.033389028164708894), (947, 0.0), (948, 0.04134491152973615), (949, 0.02632490632463282), (950, 0.055749467333806056), (951, 0.04399058702145837), (952, 0.0), (953, 0.02001601922563589), (954, 0.0), (955, 0.025007816164017767), (956, 0.023112508176051216), (957, 0.03673591791853225), (958, 0.08735706972682653), (959, 0.0), (960, 0.025007816164017767), (961, 0.10482848367219183), (962, 0.02973505167250263), (963, 0.0), (964, 0.02564102564102564), (965, 0.025318484177091666), (966, 0.0), (967, 0.023357091793352585), (968, 0.02875986542715254), (969, 0.0), (970, 0.0), (971, 0.0), (972, 0.0), (973, 0.0), (974, 0.0), (975, 0.0), (976, 0.02830692585361489), (977, 0.0), (978, 0.0), (979, 0.0), (980, 0.03026137663344012), (981, 0.06201736729460422), (982, 0.03673591791853225), (983, 0.0), (984, 0.0), (985, 0.02414022747926338), (986, 0.033389028164708894), (987, 0.0), (988, 0.0), (989, 0.03580574370197164), (990, 0.021995293510729184), (991, 0.0), (992, 0.06052275326688024), (993, 0.0), (994, 0.0), (995, 0.0), (996, 0.03202563076101743), (997, 0.0), (998, 0.020672455764868074), (999, 0.0), (1000, 0.0), (1001, 0.0), (1002, 0.06988565578146122), (1003, 0.0), (1004, 0.0), (1005, 0.02387049580131443), (1006, 0.0), (1007, 0.05947010334500526), (1008, 0.0), (1009, 0.04358136336404089), (1010, 0.06405126152203486), (1011, 0.0716114874039433), (1012, 0.09607689228305229), (1013, 0.0), (1014, 0.0), (1015, 0.0734718358370645), (1016, 0.10016708449412667), (1017, 0.02830692585361489), (1018, 0.02973505167250263), (1019, 0.0), (1020, 0.03580574370197164), (1021, 0.023357091793352585), (1022, 0.04671418358670517), (1023, 0.04003203845127178), (1024, 0.0), (1025, 0.03494282789073061), (1026, 0.0), (1027, 0.08006407690254357), (1028, 0.03202563076101743), (1029, 0.027874733666903028), (1030, 0.0), (1031, 0.039722906114947866), (1032, 0.0186145197762485), (1033, 0.0), (1034, 0.0), (1035, 0.0), (1036, 0.0), (1037, 0.0), (1038, 0.0), (1039, 0.023357091793352585), (1040, 0.021591675854376526), (1041, 0.10482848367219183), (1042, 0.0), (1043, 0.02470831055537004), (1044, 0.17255919256291524), (1045, 0.06988565578146122), (1046, 0.0), (1047, 0.0), (1048, 0.042051713353118), (1049, 0.04003203845127178), (1050, 0.03673591791853225), (1051, 0.0), (1052, 0.0), (1053, 0.02564102564102564), (1054, 0.03026137663344012), (1055, 0.022422426466543747), (1056, 0.021591675854376526), (1057, 0.05847053462046861), (1058, 0.02414022747926338), (1059, 0.0), (1060, 0.0), (1061, 0.0), (1062, 0.0), (1063, 0.05492350363810897), (1064, 0.0), (1065, 0.05492350363810897), (1066, 0.04003203845127178), (1067, 0.024004225115463206), (1068, 0.0), (1069, 0.0), (1070, 0.06862635163075162), (1071, 0.03494282789073061), (1072, 0.042796049251091296), (1073, 0.027874733666903028), (1074, 0.0), (1075, 0.08006407690254357), (1076, 0.0), (1077, 0.01706971854997297), (1078, 0.0), (1079, 0.07007127538005775), (1080, 0.0), (1081, 0.0), (1082, 0.02875986542715254), (1083, 0.02875986542715254), (1084, 0.0), (1085, 0.025007816164017767), (1086, 0.032686022523030676), (1087, 0.0), (1088, 0.0), (1089, 0.0), (1090, 0.0), (1091, 0.18923271008903098), (1092, 0.03026137663344012), (1093, 0.04134491152973615), (1094, 0.0), (1095, 0.0), (1096, 0.0), (1097, 0.027461751819054483), (1098, 0.0), (1099, 0.059728109343155304), (1100, 0.0), (1101, 0.0), (1102, 0.0), (1103, 0.11503946170861017), (1104, 0.04399058702145837), (1105, 0.04318335170875305), (1106, 0.0), (1107, 0.07412493166611012), (1108, 0.027874733666903028), (1109, 0.0), (1110, 0.050015632328035534), (1111, 0.0), (1112, 0.0), (1113, 0.10482848367219183), (1114, 0.0), (1115, 0.0), (1116, 0.0), (1117, 0.050015632328035534), (1118, 0.03673591791853225), (1119, 0.016878989451394443), (1120, 0.0), (1121, 0.05661385170722978), (1122, 0.0), (1123, 0.0), (1124, 0.0), (1125, 0.0), (1126, 0.0), (1127, 0.0), (1128, 0.10826639239215334), (1129, 0.03202563076101743), (1130, 0.022645540682891915), (1131, 0.0), (1132, 0.0), (1133, 0.023112508176051216), (1134, 0.0), (1135, 0.0), (1136, 0.03202563076101743), (1137, 0.019138975058773818), (1138, 0.0), (1139, 0.111687118657491), (1140, 0.020672455764868074), (1141, 0.0826898230594723), (1142, 0.0), (1143, 0.15695698526580623), (1144, 0.05661385170722978), (1145, 0.03494282789073061), (1146, 0.027874733666903028), (1147, 0.02414022747926338), (1148, 0.04828045495852676), (1149, 0.02632490632463282), (1150, 0.03774256780481986), (1151, 0.0), (1152, 0.027874733666903028), (1153, 0.022422426466543747), (1154, 0.03883678186903087), (1155, 0.0), (1156, 0.0), (1157, 0.0), (1158, 0.0734718358370645), (1159, 0.04441155916843275), (1160, 0.0), (1161, 0.0), (1162, 0.027874733666903028), (1163, 0.0), (1164, 0.02564102564102564), (1165, 0.0), (1166, 0.04721921646498856), (1167, 0.02875986542715254), (1168, 0.02120949209919259), (1169, 0.02050230920261824), (1170, 0.04399058702145837), (1171, 0.04003203845127178), (1172, 0.0), (1173, 0.03026137663344012), (1174, 0.022645540682891915), (1175, 0.0), (1176, 0.027874733666903028), (1177, 0.04529108136578383), (1178, 0.0), (1179, 0.0), (1180, 0.03494282789073061), (1181, 0.10256410256410256), (1182, 0.0), (1183, 0.022875450543583874), (1184, 0.0), (1185, 0.05195243334661311), (1186, 0.0), (1187, 0.05751973085430508), (1188, 0.0), (1189, 0.0), (1190, 0.0), (1191, 0.075955452531275), (1192, 0.0), (1193, 0.030816677568068284), (1194, 0.0), (1195, 0.025976216673306556), (1196, 0.05492350363810897), (1197, 0.0), (1198, 0.0), (1199, 0.0734718358370645), (1200, 0.0), (1201, 0.02875986542715254), (1202, 0.0), (1203, 0.0), (1204, 0.04134491152973615), (1205, 0.02875986542715254), (1206, 0.0), (1207, 0.0), (1208, 0.025976216673306556), (1209, 0.09548198320525772), (1210, 0.02830692585361489), (1211, 0.0), (1212, 0.02360960823249428), (1213, 0.10256410256410256), (1214, 0.0), (1215, 0.0), (1216, 0.0), (1217, 0.018367958959266125), (1218, 0.03883678186903087), (1219, 0.0), (1220, 0.0), (1221, 0.0), (1222, 0.0), (1223, 0.0), (1224, 0.0), (1225, 0.042796049251091296), (1226, 0.03883678186903087), (1227, 0.0), (1228, 0.17295817388759027), (1229, 0.02470831055537004), (1230, 0.0), (1231, 0.03140371465106639), (1232, 0.02360960823249428), (1233, 0.02875986542715254), (1234, 0.0), (1235, 0.06201736729460422), (1236, 0.0), (1237, 0.0), (1238, 0.0), (1239, 0.0), (1240, 0.0), (1241, 0.0), (1242, 0.0), (1243, 0.21790681682020446), (1244, 0.0), (1245, 0.04134491152973615), (1246, 0.14867525836251314), (1247, 0.0), (1248, 0.0), (1249, 0.06537204504606134), (1250, 0.03202563076101743), (1251, 0.0), (1252, 0.0), (1253, 0.02564102564102564), (1254, 0.0), (1255, 0.0), (1256, 0.02564102564102564), (1257, 0.06537204504606135), (1258, 0.0), (1259, 0.06827887419989188), (1260, 0.0), (1261, 0.0), (1262, 0.02387049580131443), (1263, 0.025007816164017767), (1264, 0.0), (1265, 0.0), (1266, 0.11322770341445959), (1267, 0.0), (1268, 0.023112508176051216), (1269, 0.06150692760785473), (1270, 0.03413943709994594), (1271, 0.0), (1272, 0.026688025634181187), (1273, 0.0), (1274, 0.0), (1275, 0.04883862905055043), (1276, 0.0), (1277, 0.03202563076101743), (1278, 0.032686022523030676), (1279, 0.027874733666903028), (1280, 0.0), (1281, 0.023357091793352585), (1282, 0.04828045495852676), (1283, 0.0), (1284, 0.0), (1285, 0.0), (1286, 0.0), (1287, 0.016343011261515338), (1288, 0.0), (1289, 0.0), (1290, 0.0), (1291, 0.0), (1292, 0.05063696835418333), (1293, 0.0), (1294, 0.0), (1295, 0.0), (1296, 0.0), (1297, 0.0), (1298, 0.023357091793352585), (1299, 0.03580574370197164), (1300, 0.0), (1301, 0.033389028164708894), (1302, 0.0), (1303, 0.05751973085430508), (1304, 0.03673591791853225), (1305, 0.0), (1306, 0.0), (1307, 0.0), (1308, 0.0625407298837625), (1309, 0.05847053462046861), (1310, 0.0), (1311, 0.035366392784487034), (1312, 0.029235267310234306), (1313, 0.03673591791853225), (1314, 0.021591675854376526), (1315, 0.0734718358370645), (1316, 0.0), (1317, 0.04622501635210243), (1318, 0.0), (1319, 0.027461751819054483), (1320, 0.025318484177091666), (1321, 0.0), (1322, 0.0), (1323, 0.0), (1324, 0.018741582819745837), (1325, 0.03580574370197164), (1326, 0.0), (1327, 0.06405126152203486), (1328, 0.02830692585361489), (1329, 0.0), (1330, 0.0), (1331, 0.0), (1332, 0.0), (1333, 0.04441155916843275), (1334, 0.03942082639927217), (1335, 0.030816677568068284), (1336, 0.0), (1337, 0.0), (1338, 0.033389028164708894), (1339, 0.0), (1340, 0.0), (1341, 0.023357091793352585), (1342, 0.025007816164017767), (1343, 0.030816677568068284), (1344, 0.0), (1345, 0.0), (1346, 0.03883678186903087), (1347, 0.0), (1348, 0.0), (1349, 0.0), (1350, 0.0), (1351, 0.0), (1352, 0.044844852933087494), (1353, 0.0), (1354, 0.025976216673306556), (1355, 0.02830692585361489), (1356, 0.019138975058773818), (1357, 0.0), (1358, 0.0), (1359, 0.0), (1360, 0.022875450543583874), (1361, 0.038277950117547636), (1362, 0.0), (1363, 0.025976216673306556), (1364, 0.06052275326688024), (1365, 0.0), (1366, 0.0), (1367, 0.0), (1368, 0.03026137663344012), (1369, 0.0), (1370, 0.0), (1371, 0.0), (1372, 0.0), (1373, 0.0), (1374, 0.0), (1375, 0.0), (1376, 0.02414022747926338), (1377, 0.025007816164017767), (1378, 0.0), (1379, 0.0), (1380, 0.06827887419989188), (1381, 0.0), (1382, 0.0), (1383, 0.0), (1384, 0.0), (1385, 0.0), (1386, 0.03774256780481986), (1387, 0.0), (1388, 0.025318484177091666), (1389, 0.06477502756312958), (1390, 0.0), (1391, 0.02830692585361489), (1392, 0.0), (1393, 0.03580574370197164), (1394, 0.0), (1395, 0.0), (1396, 0.0), (1397, 0.0), (1398, 0.0), (1399, 0.0), (1400, 0.0), (1401, 0.0), (1402, 0.05751973085430508), (1403, 0.04883862905055043), (1404, 0.0), (1405, 0.0), (1406, 0.033389028164708894), (1407, 0.022645540682891915), (1408, 0.0), (1409, 0.022205779584216375), (1410, 0.02973505167250263), (1411, 0.0), (1412, 0.0), (1413, 0.0), (1414, 0.0), (1415, 0.0), (1416, 0.0), (1417, 0.0), (1418, 0.0), (1419, 0.0), (1420, 0.025318484177091666), (1421, 0.05128205128205128), (1422, 0.0), (1423, 0.0), (1424, 0.0), (1425, 0.0), (1426, 0.0), (1427, 0.030816677568068284), (1428, 0.0), (1429, 0.0), (1430, 0.0), (1431, 0.0), (1432, 0.02564102564102564), (1433, 0.0), (1434, 0.0), (1435, 0.0), (1436, 0.0), (1437, 0.023112508176051216), (1438, 0.0), (1439, 0.02830692585361489), (1440, 0.042796049251091296), (1441, 0.10168147934776052), (1442, 0.0), (1443, 0.0), (1444, 0.0), (1445, 0.0), (1446, 0.0), (1447, 0.0), (1448, 0.03774256780481986), (1449, 0.0), (1450, 0.0), (1451, 0.0), (1452, 0.0), (1453, 0.0), (1454, 0.0), (1455, 0.03580574370197164), (1456, 0.02414022747926338), (1457, 0.027461751819054483), (1458, 0.04441155916843275), (1459, 0.0), (1460, 0.0), (1461, 0.030816677568068284), (1462, 0.0), (1463, 0.0), (1464, 0.030816677568068284), (1465, 0.02875986542715254), (1466, 0.0), (1467, 0.02387049580131443), (1468, 0.027874733666903028), (1469, 0.0), (1470, 0.03026137663344012), (1471, 0.06280742930213278), (1472, 0.02632490632463282), (1473, 0.0), (1474, 0.03026137663344012), (1475, 0.0), (1476, 0.0), (1477, 0.0), (1478, 0.0), (1479, 0.03580574370197164), (1480, 0.0), (1481, 0.025976216673306556), (1482, 0.0), (1483, 0.02875986542715254), (1484, 0.0), (1485, 0.0), (1486, 0.0), (1487, 0.02973505167250263), (1488, 0.0), (1489, 0.04003203845127178), (1490, 0.0), (1491, 0.05413319619607667), (1492, 0.02470831055537004)]\n"
     ]
    }
   ],
   "source": [
    "print(list(enumerate(similarity_matrix[0])))"
   ]
  },
  {
   "cell_type": "code",
   "execution_count": 45,
   "id": "d14c56f1-7adb-4cb6-9bd9-6fe8aa040a7b",
   "metadata": {},
   "outputs": [
    {
     "name": "stdout",
     "output_type": "stream",
     "text": [
      "[(0, 1.0000000000000002), (188, 0.23788041338002103), (331, 0.23112508176051216), (579, 0.23000322710873397), (51, 0.22645540682891915), (1243, 0.21790681682020446), (61, 0.2172620473133704), (296, 0.21483446221182984), (610, 0.20033416898825337), (285, 0.20033416898825335), (118, 0.20016019225635892), (884, 0.1951231356683212), (574, 0.1921537845661046), (1091, 0.18923271008903098), (160, 0.1849000654084097), (40, 0.1754116038614058), (4, 0.17505471314812437), (30, 0.17505471314812435), (208, 0.17476551841063892), (1228, 0.17295817388759027), (1044, 0.17255919256291524), (681, 0.17093520167692652), (607, 0.1706971854997297), (55, 0.16984155512168933), (117, 0.16531163063339513), (7, 0.16526725762745997), (23, 0.16477051091432687), (87, 0.1617875572323585), (44, 0.16012815380508713), (27, 0.15701857325533194), (1143, 0.15695698526580623), (139, 0.1539670545751043), (73, 0.14867525836251314), (1246, 0.14867525836251314), (293, 0.146943671674129), (325, 0.14617633655117152), (665, 0.14322297480788657), (15, 0.14011213457945124), (329, 0.13937366833451514), (35, 0.13725270326150324), (180, 0.13655774839978377), (88, 0.13533299049019168), (415, 0.13533299049019168), (580, 0.13533299049019168), (804, 0.13344012817090595), (511, 0.1316245316231641), (75, 0.1307440900921227), (101, 0.13030163843373951), (608, 0.1283881477532739), (56, 0.12810252304406972), (107, 0.12810252304406972), (228, 0.12773807700531709), (316, 0.12659242088545833), (243, 0.12561485860426555), (423, 0.12503908082008883), (165, 0.1235415527768502), (169, 0.12326671027227314), (750, 0.12201777521731262), (594, 0.12104550653376048), (365, 0.12009611535381534), (76, 0.11935247900657216), (24, 0.11694106924093722), (692, 0.11566298639324804), (5, 0.11556254088025608), (675, 0.11556254088025608), (42, 0.11503946170861017), (59, 0.11503946170861017), (1103, 0.11503946170861017), (483, 0.1148338503526429), (388, 0.11437725271791938), (173, 0.114022293537793), (1266, 0.11322770341445959), (70, 0.11322770341445956), (383, 0.11322770341445956), (1139, 0.111687118657491), (13, 0.11149893466761211), (709, 0.11149893466761211), (113, 0.11020775375559674), (468, 0.10984700727621793), (127, 0.10895340841010223), (205, 0.10826639239215335), (213, 0.10826639239215334), (360, 0.10826639239215334), (1128, 0.10826639239215334), (146, 0.10795837927188262), (170, 0.10741723110591492), (553, 0.10741723110591492), (16, 0.10699012312772824), (104, 0.10529962529853128), (824, 0.10529962529853128), (81, 0.105129283382795), (84, 0.10482848367219183), (251, 0.10482848367219183), (746, 0.10482848367219183), (961, 0.10482848367219183), (1041, 0.10482848367219183), (1113, 0.10482848367219183), (174, 0.10423454980627081), (223, 0.10390486669322622), (137, 0.10256410256410256), (301, 0.10256410256410256), (1181, 0.10256410256410256), (1213, 0.10256410256410256), (116, 0.10241831129983783), (123, 0.10241831129983783), (288, 0.10241831129983783), (387, 0.10241831129983783), (112, 0.10168147934776053), (1441, 0.10168147934776052), (422, 0.10087125544480038), (398, 0.10016708449412667), (424, 0.10016708449412667), (1016, 0.10016708449412667), (100, 0.10003126465607107), (68, 0.09909574797525762), (287, 0.09883324222148016), (218, 0.09805806756909202), (240, 0.09805806756909202), (310, 0.09805806756909202), (525, 0.09767725810110087), (66, 0.09656090991705353), (466, 0.09656090991705352), (798, 0.09656090991705352), (98, 0.09607689228305229), (203, 0.09607689228305229), (430, 0.09607689228305229), (478, 0.09607689228305229), (662, 0.09607689228305229), (1012, 0.09607689228305229), (192, 0.09548198320525772), (1209, 0.09548198320525772), (19, 0.09421114395319916), (21, 0.09421114395319916), (526, 0.09370791409872918), (37, 0.09342836717341034), (496, 0.09245003270420485), (734, 0.09245003270420485), (29, 0.09078412990032037), (125, 0.09065471553673685), (289, 0.0900791242218625), (28, 0.08968970586617499), (39, 0.08968970586617499), (821, 0.08968970586617499), (434, 0.08951435925492911), (11, 0.08920515501750789), (77, 0.08920515501750789), (97, 0.08920515501750789), (164, 0.08920515501750789), (355, 0.08920515501750789), (489, 0.08920515501750789), (546, 0.08920515501750789), (903, 0.08920515501750789), (141, 0.0888231183368655), (313, 0.0888231183368655), (128, 0.08798117404291673), (625, 0.08798117404291673), (1, 0.08770580193070292), (80, 0.08770580193070292), (917, 0.08770580193070292), (958, 0.08735706972682653), (778, 0.08716272672808179), (210, 0.0869839312029283), (152, 0.08633531446374632), (71, 0.08627959628145762), (114, 0.08627959628145762), (235, 0.08627959628145762), (421, 0.08559209850218259), (58, 0.08492077756084468), (178, 0.08492077756084468), (576, 0.08492077756084468), (102, 0.08483796839677037), (668, 0.08483796839677037), (86, 0.084103426706236), (642, 0.084103426706236), (176, 0.08362420100070908), (186, 0.08362420100070908), (260, 0.08362420100070908), (555, 0.08362420100070908), (598, 0.08362420100070908), (640, 0.08362420100070908), (677, 0.08362420100070908), (298, 0.0826898230594723), (366, 0.0826898230594723), (1141, 0.0826898230594723), (31, 0.08238525545716345), (315, 0.08238525545716345), (354, 0.08238525545716345), (799, 0.08200923681047297), (67, 0.081199794294115), (524, 0.081199794294115), (717, 0.0806970043558403), (33, 0.08006407690254357), (52, 0.08006407690254357), (82, 0.08006407690254357), (175, 0.08006407690254357), (379, 0.08006407690254357), (435, 0.08006407690254357), (535, 0.08006407690254357), (591, 0.08006407690254357), (921, 0.08006407690254357), (923, 0.08006407690254357), (939, 0.08006407690254357), (1027, 0.08006407690254357), (1075, 0.08006407690254357), (17, 0.07944581222989573), (120, 0.07944581222989573), (14, 0.07897471897389846), (111, 0.07897471897389846), (241, 0.07897471897389846), (460, 0.07897471897389846), (883, 0.07884165279854434), (78, 0.07792865001991967), (222, 0.07792865001991967), (686, 0.07792865001991967), (868, 0.07792865001991967), (151, 0.07767356373806174), (185, 0.07767356373806174), (622, 0.07767356373806174), (467, 0.07692307692307693), (193, 0.075955452531275), (1191, 0.075955452531275), (43, 0.07548513560963972), (147, 0.07548513560963972), (214, 0.07548513560963972), (10, 0.07502344849205331), (69, 0.07502344849205331), (335, 0.07502344849205331), (898, 0.07502344849205331), (64, 0.07412493166611012), (427, 0.07412493166611012), (470, 0.07412493166611012), (495, 0.07412493166611012), (1107, 0.07412493166611012), (167, 0.07396002616336388), (79, 0.0734718358370645), (190, 0.0734718358370645), (761, 0.0734718358370645), (1015, 0.0734718358370645), (1158, 0.0734718358370645), (1199, 0.0734718358370645), (1315, 0.0734718358370645), (9, 0.07325794357582566), (347, 0.07325794357582566), (376, 0.07325794357582566), (482, 0.07325794357582566), (501, 0.07325794357582566), (49, 0.07299318686018119), (196, 0.07242068243779014), (507, 0.07242068243779014), (26, 0.0716114874039433), (270, 0.0716114874039433), (425, 0.0716114874039433), (1011, 0.0716114874039433), (138, 0.07161148740394328), (142, 0.07161148740394328), (762, 0.07161148740394328), (62, 0.07082882469748285), (405, 0.07082882469748285), (527, 0.07082882469748285), (737, 0.07082882469748285), (837, 0.07082882469748285), (166, 0.07030539322372283), (829, 0.07007127538005775), (1079, 0.07007127538005775), (560, 0.06988565578146122), (633, 0.06988565578146122), (1002, 0.06988565578146122), (1045, 0.06988565578146122), (183, 0.06933752452815364), (273, 0.06862635163075162), (1070, 0.06862635163075162), (124, 0.06827887419989188), (268, 0.06827887419989188), (339, 0.06827887419989188), (349, 0.06827887419989188), (391, 0.06827887419989188), (703, 0.06827887419989188), (800, 0.06827887419989188), (838, 0.06827887419989188), (1259, 0.06827887419989188), (1380, 0.06827887419989188), (155, 0.06793662204867575), (189, 0.06726727939963124), (601, 0.06726727939963124), (609, 0.06726727939963124), (311, 0.06677805632941779), (312, 0.06677805632941779), (314, 0.06677805632941779), (371, 0.06677805632941779), (286, 0.06661733875264912), (429, 0.06661733875264912), (171, 0.06598588053218755), (559, 0.06598588053218755), (818, 0.06598588053218755), (912, 0.06598588053218755), (211, 0.06537204504606135), (907, 0.06537204504606135), (1257, 0.06537204504606135), (345, 0.06537204504606134), (1249, 0.06537204504606134), (41, 0.06477502756312958), (444, 0.06477502756312958), (504, 0.06477502756312958), (701, 0.06477502756312958), (1389, 0.06477502756312958), (47, 0.06470154480826261), (618, 0.06419407387663695), (202, 0.06405126152203486), (262, 0.06405126152203486), (522, 0.06405126152203486), (602, 0.06405126152203486), (621, 0.06405126152203486), (1010, 0.06405126152203486), (1327, 0.06405126152203486), (99, 0.06362847629757777), (732, 0.06362847629757777), (25, 0.063077570029677), (342, 0.063077570029677), (420, 0.063077570029677), (792, 0.063077570029677), (93, 0.06280742930213278), (115, 0.06280742930213278), (237, 0.06280742930213278), (830, 0.06280742930213278), (1471, 0.06280742930213278), (1308, 0.0625407298837625), (74, 0.06201736729460422), (182, 0.06201736729460422), (620, 0.06201736729460422), (629, 0.06201736729460422), (981, 0.06201736729460422), (1235, 0.06201736729460422), (119, 0.06163335513613657), (177, 0.06163335513613657), (238, 0.06163335513613657), (1269, 0.06150692760785473), (156, 0.06100888760865632), (145, 0.06052275326688024), (393, 0.06052275326688024), (520, 0.06052275326688024), (704, 0.06052275326688024), (867, 0.06052275326688024), (992, 0.06052275326688024), (1364, 0.06052275326688024), (32, 0.06004805767690767), (1099, 0.059728109343155304), (194, 0.0595843591724218), (20, 0.05947010334500526), (302, 0.05947010334500526), (1007, 0.05947010334500526), (664, 0.05913123959890826), (724, 0.05913123959890826), (330, 0.05868830272850543), (83, 0.05847053462046861), (743, 0.05847053462046861), (1057, 0.05847053462046861), (1309, 0.05847053462046861), (2, 0.05751973085430508), (8, 0.05751973085430508), (409, 0.05751973085430508), (1187, 0.05751973085430508), (1303, 0.05751973085430508), (1402, 0.05751973085430508), (143, 0.05661385170722978), (209, 0.05661385170722978), (219, 0.05661385170722978), (227, 0.05661385170722978), (231, 0.05661385170722978), (410, 0.05661385170722978), (739, 0.05661385170722978), (1121, 0.05661385170722978), (1144, 0.05661385170722978), (72, 0.056393991258375145), (172, 0.055749467333806056), (257, 0.055749467333806056), (346, 0.055749467333806056), (438, 0.055749467333806056), (523, 0.055749467333806056), (950, 0.055749467333806056), (274, 0.055470019622522904), (18, 0.05510387687779837), (157, 0.05492350363810897), (239, 0.05492350363810897), (244, 0.05492350363810897), (256, 0.05492350363810897), (528, 0.05492350363810897), (753, 0.05492350363810897), (1063, 0.05492350363810897), (1065, 0.05492350363810897), (1196, 0.05492350363810897), (431, 0.05413319619607667), (543, 0.05413319619607667), (1491, 0.05413319619607667), (161, 0.05404747453311749), (461, 0.05404747453311749), (253, 0.05370861555295746), (225, 0.053376051268362375), (439, 0.053376051268362375), (848, 0.053376051268362375), (894, 0.053376051268362375), (447, 0.05282859011668849), (291, 0.05272904491779212), (714, 0.05272904491779212), (267, 0.05264981264926564), (374, 0.05264981264926564), (510, 0.05264981264926564), (744, 0.05264981264926564), (872, 0.05264981264926564), (337, 0.05195243334661311), (370, 0.05195243334661311), (373, 0.05195243334661311), (437, 0.05195243334661311), (735, 0.05195243334661311), (1185, 0.05195243334661311), (730, 0.05180118867824779), (34, 0.05128205128205128), (1421, 0.05128205128205128), (126, 0.05063696835418333), (162, 0.05063696835418333), (261, 0.05063696835418333), (356, 0.05063696835418333), (368, 0.05063696835418333), (593, 0.05063696835418333), (1292, 0.05063696835418333), (794, 0.0503579746698444), (91, 0.050015632328035534), (271, 0.050015632328035534), (509, 0.050015632328035534), (766, 0.050015632328035534), (915, 0.050015632328035534), (1110, 0.050015632328035534), (1117, 0.050015632328035534), (303, 0.04941662111074008), (419, 0.04941662111074008), (505, 0.04941662111074008), (89, 0.04883862905055043), (407, 0.04883862905055043), (490, 0.04883862905055043), (661, 0.04883862905055043), (1275, 0.04883862905055043), (1403, 0.04883862905055043), (361, 0.04828045495852676), (377, 0.04828045495852676), (384, 0.04828045495852676), (506, 0.04828045495852676), (597, 0.04828045495852676), (768, 0.04828045495852676), (1148, 0.04828045495852676), (1282, 0.04828045495852676), (92, 0.04774099160262886), (462, 0.04774099160262886), (548, 0.04774099160262886), (833, 0.04774099160262886), (45, 0.04721921646498856), (413, 0.04721921646498856), (481, 0.04721921646498856), (697, 0.04721921646498856), (1166, 0.04721921646498856), (90, 0.04671418358670517), (224, 0.04671418358670517), (679, 0.04671418358670517), (1022, 0.04671418358670517), (144, 0.04622501635210243), (333, 0.04622501635210243), (503, 0.04622501635210243), (539, 0.04622501635210243), (545, 0.04622501635210243), (1317, 0.04622501635210243), (131, 0.04575090108716775), (748, 0.04575090108716775), (882, 0.04575090108716775), (95, 0.04529108136578383), (552, 0.04529108136578383), (918, 0.04529108136578383), (1177, 0.04529108136578383), (680, 0.044844852933087494), (816, 0.044844852933087494), (1352, 0.044844852933087494), (307, 0.04441155916843275), (343, 0.04441155916843275), (428, 0.04441155916843275), (464, 0.04441155916843275), (512, 0.04441155916843275), (532, 0.04441155916843275), (570, 0.04441155916843275), (1159, 0.04441155916843275), (1333, 0.04441155916843275), (1458, 0.04441155916843275), (57, 0.044036771377507694), (698, 0.04399058702145837), (731, 0.04399058702145837), (887, 0.04399058702145837), (951, 0.04399058702145837), (1104, 0.04399058702145837), (1170, 0.04399058702145837), (1009, 0.04358136336404089), (451, 0.04318335170875305), (820, 0.04318335170875305), (944, 0.04318335170875305), (1105, 0.04318335170875305), (158, 0.042796049251091296), (159, 0.042796049251091296), (813, 0.042796049251091296), (814, 0.042796049251091296), (1072, 0.042796049251091296), (1225, 0.042796049251091296), (1440, 0.042796049251091296), (497, 0.04241898419838518), (318, 0.042051713353118), (767, 0.042051713353118), (1048, 0.042051713353118), (12, 0.04169381992250833), (575, 0.04169381992250833), (38, 0.04134491152973615), (105, 0.04134491152973615), (338, 0.04134491152973615), (603, 0.04134491152973615), (948, 0.04134491152973615), (1093, 0.04134491152973615), (1204, 0.04134491152973615), (1245, 0.04134491152973615), (85, 0.04100461840523648), (705, 0.04100461840523648), (871, 0.04067259173910421), (272, 0.04034850217792015), (323, 0.04034850217792015), (408, 0.04003203845127178), (492, 0.04003203845127178), (648, 0.04003203845127178), (1023, 0.04003203845127178), (1049, 0.04003203845127178), (1066, 0.04003203845127178), (1171, 0.04003203845127178), (1489, 0.04003203845127178), (531, 0.039722906114947866), (1031, 0.039722906114947866), (1334, 0.03942082639927217), (653, 0.03883678186903087), (1154, 0.03883678186903087), (1218, 0.03883678186903087), (1226, 0.03883678186903087), (1346, 0.03883678186903087), (206, 0.038277950117547636), (1361, 0.038277950117547636), (752, 0.038007431179264334), (269, 0.03774256780481986), (733, 0.03774256780481986), (1150, 0.03774256780481986), (1386, 0.03774256780481986), (1448, 0.03774256780481986), (544, 0.037483165639491674), (283, 0.037229039552497), (3, 0.03698001308168194), (245, 0.03698001308168194), (863, 0.03698001308168194), (300, 0.03673591791853225), (414, 0.03673591791853225), (605, 0.03673591791853225), (781, 0.03673591791853225), (957, 0.03673591791853225), (982, 0.03673591791853225), (1050, 0.03673591791853225), (1118, 0.03673591791853225), (1304, 0.03673591791853225), (1313, 0.03673591791853225), (684, 0.036031649688745), (60, 0.03580574370197164), (153, 0.03580574370197164), (372, 0.03580574370197164), (473, 0.03580574370197164), (710, 0.03580574370197164), (853, 0.03580574370197164), (889, 0.03580574370197164), (989, 0.03580574370197164), (1020, 0.03580574370197164), (1299, 0.03580574370197164), (1325, 0.03580574370197164), (1393, 0.03580574370197164), (1455, 0.03580574370197164), (1479, 0.03580574370197164), (854, 0.035366392784487034), (1311, 0.035366392784487034), (277, 0.03494282789073061), (357, 0.03494282789073061), (660, 0.03494282789073061), (881, 0.03494282789073061), (1025, 0.03494282789073061), (1071, 0.03494282789073061), (1145, 0.03494282789073061), (1180, 0.03494282789073061), (517, 0.03473667371459374), (22, 0.03433508017497365), (266, 0.03413943709994594), (367, 0.03413943709994594), (426, 0.03413943709994594), (469, 0.03413943709994594), (551, 0.03413943709994594), (577, 0.03413943709994594), (793, 0.03413943709994594), (840, 0.03413943709994594), (895, 0.03413943709994594), (1270, 0.03413943709994594), (212, 0.0335719831132296), (656, 0.0335719831132296), (121, 0.033389028164708894), (563, 0.033389028164708894), (666, 0.033389028164708894), (667, 0.033389028164708894), (946, 0.033389028164708894), (986, 0.033389028164708894), (1301, 0.033389028164708894), (1338, 0.033389028164708894), (1406, 0.033389028164708894), (65, 0.03285760387267628), (110, 0.03285760387267628), (106, 0.032686022523030676), (276, 0.032686022523030676), (320, 0.032686022523030676), (536, 0.032686022523030676), (694, 0.032686022523030676), (893, 0.032686022523030676), (1086, 0.032686022523030676), (1278, 0.032686022523030676), (46, 0.03202563076101743), (534, 0.03202563076101743), (754, 0.03202563076101743), (827, 0.03202563076101743), (866, 0.03202563076101743), (996, 0.03202563076101743), (1028, 0.03202563076101743), (1129, 0.03202563076101743), (1136, 0.03202563076101743), (1250, 0.03202563076101743), (1277, 0.03202563076101743), (132, 0.03140371465106639), (217, 0.03140371465106639), (254, 0.03140371465106639), (280, 0.03140371465106639), (441, 0.03140371465106639), (636, 0.03140371465106639), (773, 0.03140371465106639), (787, 0.03140371465106639), (808, 0.03140371465106639), (1231, 0.03140371465106639), (861, 0.03096034584137879), (163, 0.030816677568068284), (191, 0.030816677568068284), (204, 0.030816677568068284), (392, 0.030816677568068284), (499, 0.030816677568068284), (565, 0.030816677568068284), (592, 0.030816677568068284), (641, 0.030816677568068284), (929, 0.030816677568068284), (1193, 0.030816677568068284), (1335, 0.030816677568068284), (1343, 0.030816677568068284), (1427, 0.030816677568068284), (1461, 0.030816677568068284), (1464, 0.030816677568068284), (53, 0.03026137663344012), (149, 0.03026137663344012), (282, 0.03026137663344012), (352, 0.03026137663344012), (454, 0.03026137663344012), (475, 0.03026137663344012), (729, 0.03026137663344012), (784, 0.03026137663344012), (831, 0.03026137663344012), (842, 0.03026137663344012), (980, 0.03026137663344012), (1054, 0.03026137663344012), (1092, 0.03026137663344012), (1173, 0.03026137663344012), (1368, 0.03026137663344012), (1470, 0.03026137663344012), (1474, 0.03026137663344012), (290, 0.02973505167250263), (485, 0.02973505167250263), (519, 0.02973505167250263), (616, 0.02973505167250263), (623, 0.02973505167250263), (651, 0.02973505167250263), (749, 0.02973505167250263), (782, 0.02973505167250263), (803, 0.02973505167250263), (962, 0.02973505167250263), (1018, 0.02973505167250263), (1410, 0.02973505167250263), (1487, 0.02973505167250263), (263, 0.029235267310234306), (457, 0.029235267310234306), (458, 0.029235267310234306), (672, 0.029235267310234306), (726, 0.029235267310234306), (771, 0.029235267310234306), (869, 0.029235267310234306), (885, 0.029235267310234306), (914, 0.029235267310234306), (1312, 0.029235267310234306), (275, 0.02875986542715254), (518, 0.02875986542715254), (572, 0.02875986542715254), (689, 0.02875986542715254), (968, 0.02875986542715254), (1082, 0.02875986542715254), (1083, 0.02875986542715254), (1167, 0.02875986542715254), (1201, 0.02875986542715254), (1205, 0.02875986542715254), (1233, 0.02875986542715254), (1465, 0.02875986542715254), (1483, 0.02875986542715254), (279, 0.02830692585361489), (281, 0.02830692585361489), (417, 0.02830692585361489), (443, 0.02830692585361489), (573, 0.02830692585361489), (875, 0.02830692585361489), (976, 0.02830692585361489), (1017, 0.02830692585361489), (1210, 0.02830692585361489), (1328, 0.02830692585361489), (1355, 0.02830692585361489), (1391, 0.02830692585361489), (1439, 0.02830692585361489), (129, 0.027874733666903028), (220, 0.027874733666903028), (246, 0.027874733666903028), (284, 0.027874733666903028), (549, 0.027874733666903028), (558, 0.027874733666903028), (643, 0.027874733666903028), (826, 0.027874733666903028), (1029, 0.027874733666903028), (1073, 0.027874733666903028), (1108, 0.027874733666903028), (1146, 0.027874733666903028), (1152, 0.027874733666903028), (1162, 0.027874733666903028), (1176, 0.027874733666903028), (1279, 0.027874733666903028), (1468, 0.027874733666903028), (252, 0.027461751819054483), (334, 0.027461751819054483), (906, 0.027461751819054483), (1097, 0.027461751819054483), (1319, 0.027461751819054483), (1457, 0.027461751819054483), (103, 0.027066598098038335), (201, 0.027066598098038335), (306, 0.026688025634181187), (317, 0.026688025634181187), (401, 0.026688025634181187), (416, 0.026688025634181187), (590, 0.026688025634181187), (663, 0.026688025634181187), (699, 0.026688025634181187), (806, 0.026688025634181187), (873, 0.026688025634181187), (937, 0.026688025634181187), (1272, 0.026688025634181187), (48, 0.02632490632463282), (255, 0.02632490632463282), (386, 0.02632490632463282), (585, 0.02632490632463282), (708, 0.02632490632463282), (935, 0.02632490632463282), (949, 0.02632490632463282), (1149, 0.02632490632463282), (1472, 0.02632490632463282), (440, 0.025976216673306556), (538, 0.025976216673306556), (674, 0.025976216673306556), (719, 0.025976216673306556), (823, 0.025976216673306556), (1195, 0.025976216673306556), (1208, 0.025976216673306556), (1354, 0.025976216673306556), (1363, 0.025976216673306556), (1481, 0.025976216673306556), (718, 0.02564102564102564), (825, 0.02564102564102564), (964, 0.02564102564102564), (1053, 0.02564102564102564), (1164, 0.02564102564102564), (1253, 0.02564102564102564), (1256, 0.02564102564102564), (1432, 0.02564102564102564), (403, 0.025318484177091666), (588, 0.025318484177091666), (965, 0.025318484177091666), (1320, 0.025318484177091666), (1388, 0.025318484177091666), (1420, 0.025318484177091666), (50, 0.025007816164017767), (541, 0.025007816164017767), (564, 0.025007816164017767), (657, 0.025007816164017767), (688, 0.025007816164017767), (908, 0.025007816164017767), (955, 0.025007816164017767), (960, 0.025007816164017767), (1085, 0.025007816164017767), (1263, 0.025007816164017767), (1342, 0.025007816164017767), (1377, 0.025007816164017767), (304, 0.02470831055537004), (455, 0.02470831055537004), (630, 0.02470831055537004), (720, 0.02470831055537004), (770, 0.02470831055537004), (779, 0.02470831055537004), (822, 0.02470831055537004), (892, 0.02470831055537004), (1043, 0.02470831055537004), (1229, 0.02470831055537004), (1492, 0.02470831055537004), (259, 0.024419314525275217), (395, 0.024419314525275217), (547, 0.024419314525275217), (671, 0.024419314525275217), (876, 0.024419314525275217), (130, 0.02414022747926338), (780, 0.02414022747926338), (930, 0.02414022747926338), (985, 0.02414022747926338), (1058, 0.02414022747926338), (1147, 0.02414022747926338), (1376, 0.02414022747926338), (1456, 0.02414022747926338), (1067, 0.024004225115463206), (328, 0.02387049580131443), (1005, 0.02387049580131443), (1262, 0.02387049580131443), (1467, 0.02387049580131443), (394, 0.02360960823249428), (396, 0.02360960823249428), (432, 0.02360960823249428), (537, 0.02360960823249428), (582, 0.02360960823249428), (1212, 0.02360960823249428), (1232, 0.02360960823249428), (109, 0.023357091793352585), (150, 0.023357091793352585), (226, 0.023357091793352585), (326, 0.023357091793352585), (344, 0.023357091793352585), (554, 0.023357091793352585), (745, 0.023357091793352585), (860, 0.023357091793352585), (936, 0.023357091793352585), (967, 0.023357091793352585), (1021, 0.023357091793352585), (1039, 0.023357091793352585), (1281, 0.023357091793352585), (1298, 0.023357091793352585), (1341, 0.023357091793352585), (759, 0.023112508176051216), (772, 0.023112508176051216), (933, 0.023112508176051216), (956, 0.023112508176051216), (1133, 0.023112508176051216), (1268, 0.023112508176051216), (1437, 0.023112508176051216), (134, 0.022875450543583874), (375, 0.022875450543583874), (542, 0.022875450543583874), (815, 0.022875450543583874), (934, 0.022875450543583874), (1183, 0.022875450543583874), (1360, 0.022875450543583874), (411, 0.022645540682891915), (530, 0.022645540682891915), (1130, 0.022645540682891915), (1174, 0.022645540682891915), (1407, 0.022645540682891915), (380, 0.022422426466543747), (721, 0.022422426466543747), (865, 0.022422426466543747), (938, 0.022422426466543747), (1055, 0.022422426466543747), (1153, 0.022422426466543747), (324, 0.022205779584216375), (508, 0.022205779584216375), (658, 0.022205779584216375), (756, 0.022205779584216375), (1409, 0.022205779584216375), (249, 0.021995293510729184), (613, 0.021995293510729184), (877, 0.021995293510729184), (990, 0.021995293510729184), (635, 0.021790681682020446), (229, 0.021591675854376526), (472, 0.021591675854376526), (540, 0.021591675854376526), (1040, 0.021591675854376526), (1056, 0.021591675854376526), (1314, 0.021591675854376526), (135, 0.021398024625545648), (390, 0.021398024625545648), (136, 0.02120949209919259), (200, 0.02120949209919259), (233, 0.02120949209919259), (265, 0.02120949209919259), (353, 0.02120949209919259), (1168, 0.02120949209919259), (264, 0.021025856676559), (327, 0.021025856676559), (659, 0.021025856676559), (998, 0.020672455764868074), (1140, 0.020672455764868074), (678, 0.02050230920261824), (691, 0.02050230920261824), (845, 0.02050230920261824), (1169, 0.02050230920261824), (199, 0.020336295869552105), (529, 0.020336295869552105), (154, 0.020174251088960076), (479, 0.020174251088960076), (673, 0.020174251088960076), (716, 0.020174251088960076), (919, 0.02001601922563589), (953, 0.02001601922563589), (54, 0.019861453057473933), (198, 0.019861453057473933), (350, 0.019861453057473933), (586, 0.019418390934515434), (140, 0.019277164398874672), (465, 0.019277164398874672), (1137, 0.019138975058773818), (1356, 0.019138975058773818), (181, 0.019003715589632167), (294, 0.01887128390240993), (693, 0.018741582819745837), (1324, 0.018741582819745837), (615, 0.0186145197762485), (785, 0.0186145197762485), (1032, 0.0186145197762485), (788, 0.01849000654084097), (1217, 0.018367958959266125), (6, 0.018248296715045298), (364, 0.018248296715045298), (763, 0.018248296715045298), (722, 0.01813094310734737), (644, 0.01790287185098582), (690, 0.017792017089454125), (1077, 0.01706971854997297), (1119, 0.016878989451394443), (1287, 0.016343011261515338), (187, 0.016012815380508715), (450, 0.015933346823572687), (94, 0.015777895820254743), (649, 0.01562690769794985), (406, 0.015553021195625068), (63, 0.013937366833451514), (913, 0.012988108336653278), (36, 0.0), (96, 0.0), (108, 0.0), (122, 0.0), (133, 0.0), (148, 0.0), (168, 0.0), (179, 0.0), (184, 0.0), (195, 0.0), (197, 0.0), (207, 0.0), (215, 0.0), (216, 0.0), (221, 0.0), (230, 0.0), (232, 0.0), (234, 0.0), (236, 0.0), (242, 0.0), (247, 0.0), (248, 0.0), (250, 0.0), (258, 0.0), (278, 0.0), (292, 0.0), (295, 0.0), (297, 0.0), (299, 0.0), (305, 0.0), (308, 0.0), (309, 0.0), (319, 0.0), (321, 0.0), (322, 0.0), (332, 0.0), (336, 0.0), (340, 0.0), (341, 0.0), (348, 0.0), (351, 0.0), (358, 0.0), (359, 0.0), (362, 0.0), (363, 0.0), (369, 0.0), (378, 0.0), (381, 0.0), (382, 0.0), (385, 0.0), (389, 0.0), (397, 0.0), (399, 0.0), (400, 0.0), (402, 0.0), (404, 0.0), (412, 0.0), (418, 0.0), (433, 0.0), (436, 0.0), (442, 0.0), (445, 0.0), (446, 0.0), (448, 0.0), (449, 0.0), (452, 0.0), (453, 0.0), (456, 0.0), (459, 0.0), (463, 0.0), (471, 0.0), (474, 0.0), (476, 0.0), (477, 0.0), (480, 0.0), (484, 0.0), (486, 0.0), (487, 0.0), (488, 0.0), (491, 0.0), (493, 0.0), (494, 0.0), (498, 0.0), (500, 0.0), (502, 0.0), (513, 0.0), (514, 0.0), (515, 0.0), (516, 0.0), (521, 0.0), (533, 0.0), (550, 0.0), (556, 0.0), (557, 0.0), (561, 0.0), (562, 0.0), (566, 0.0), (567, 0.0), (568, 0.0), (569, 0.0), (571, 0.0), (578, 0.0), (581, 0.0), (583, 0.0), (584, 0.0), (587, 0.0), (589, 0.0), (595, 0.0), (596, 0.0), (599, 0.0), (600, 0.0), (604, 0.0), (606, 0.0), (611, 0.0), (612, 0.0), (614, 0.0), (617, 0.0), (619, 0.0), (624, 0.0), (626, 0.0), (627, 0.0), (628, 0.0), (631, 0.0), (632, 0.0), (634, 0.0), (637, 0.0), (638, 0.0), (639, 0.0), (645, 0.0), (646, 0.0), (647, 0.0), (650, 0.0), (652, 0.0), (654, 0.0), (655, 0.0), (669, 0.0), (670, 0.0), (676, 0.0), (682, 0.0), (683, 0.0), (685, 0.0), (687, 0.0), (695, 0.0), (696, 0.0), (700, 0.0), (702, 0.0), (706, 0.0), (707, 0.0), (711, 0.0), (712, 0.0), (713, 0.0), (715, 0.0), (723, 0.0), (725, 0.0), (727, 0.0), (728, 0.0), (736, 0.0), (738, 0.0), (740, 0.0), (741, 0.0), (742, 0.0), (747, 0.0), (751, 0.0), (755, 0.0), (757, 0.0), (758, 0.0), (760, 0.0), (764, 0.0), (765, 0.0), (769, 0.0), (774, 0.0), (775, 0.0), (776, 0.0), (777, 0.0), (783, 0.0), (786, 0.0), (789, 0.0), (790, 0.0), (791, 0.0), (795, 0.0), (796, 0.0), (797, 0.0), (801, 0.0), (802, 0.0), (805, 0.0), (807, 0.0), (809, 0.0), (810, 0.0), (811, 0.0), (812, 0.0), (817, 0.0), (819, 0.0), (828, 0.0), (832, 0.0), (834, 0.0), (835, 0.0), (836, 0.0), (839, 0.0), (841, 0.0), (843, 0.0), (844, 0.0), (846, 0.0), (847, 0.0), (849, 0.0), (850, 0.0), (851, 0.0), (852, 0.0), (855, 0.0), (856, 0.0), (857, 0.0), (858, 0.0), (859, 0.0), (862, 0.0), (864, 0.0), (870, 0.0), (874, 0.0), (878, 0.0), (879, 0.0), (880, 0.0), (886, 0.0), (888, 0.0), (890, 0.0), (891, 0.0), (896, 0.0), (897, 0.0), (899, 0.0), (900, 0.0), (901, 0.0), (902, 0.0), (904, 0.0), (905, 0.0), (909, 0.0), (910, 0.0), (911, 0.0), (916, 0.0), (920, 0.0), (922, 0.0), (924, 0.0), (925, 0.0), (926, 0.0), (927, 0.0), (928, 0.0), (931, 0.0), (932, 0.0), (940, 0.0), (941, 0.0), (942, 0.0), (943, 0.0), (945, 0.0), (947, 0.0), (952, 0.0), (954, 0.0), (959, 0.0), (963, 0.0), (966, 0.0), (969, 0.0), (970, 0.0), (971, 0.0), (972, 0.0), (973, 0.0), (974, 0.0), (975, 0.0), (977, 0.0), (978, 0.0), (979, 0.0), (983, 0.0), (984, 0.0), (987, 0.0), (988, 0.0), (991, 0.0), (993, 0.0), (994, 0.0), (995, 0.0), (997, 0.0), (999, 0.0), (1000, 0.0), (1001, 0.0), (1003, 0.0), (1004, 0.0), (1006, 0.0), (1008, 0.0), (1013, 0.0), (1014, 0.0), (1019, 0.0), (1024, 0.0), (1026, 0.0), (1030, 0.0), (1033, 0.0), (1034, 0.0), (1035, 0.0), (1036, 0.0), (1037, 0.0), (1038, 0.0), (1042, 0.0), (1046, 0.0), (1047, 0.0), (1051, 0.0), (1052, 0.0), (1059, 0.0), (1060, 0.0), (1061, 0.0), (1062, 0.0), (1064, 0.0), (1068, 0.0), (1069, 0.0), (1074, 0.0), (1076, 0.0), (1078, 0.0), (1080, 0.0), (1081, 0.0), (1084, 0.0), (1087, 0.0), (1088, 0.0), (1089, 0.0), (1090, 0.0), (1094, 0.0), (1095, 0.0), (1096, 0.0), (1098, 0.0), (1100, 0.0), (1101, 0.0), (1102, 0.0), (1106, 0.0), (1109, 0.0), (1111, 0.0), (1112, 0.0), (1114, 0.0), (1115, 0.0), (1116, 0.0), (1120, 0.0), (1122, 0.0), (1123, 0.0), (1124, 0.0), (1125, 0.0), (1126, 0.0), (1127, 0.0), (1131, 0.0), (1132, 0.0), (1134, 0.0), (1135, 0.0), (1138, 0.0), (1142, 0.0), (1151, 0.0), (1155, 0.0), (1156, 0.0), (1157, 0.0), (1160, 0.0), (1161, 0.0), (1163, 0.0), (1165, 0.0), (1172, 0.0), (1175, 0.0), (1178, 0.0), (1179, 0.0), (1182, 0.0), (1184, 0.0), (1186, 0.0), (1188, 0.0), (1189, 0.0), (1190, 0.0), (1192, 0.0), (1194, 0.0), (1197, 0.0), (1198, 0.0), (1200, 0.0), (1202, 0.0), (1203, 0.0), (1206, 0.0), (1207, 0.0), (1211, 0.0), (1214, 0.0), (1215, 0.0), (1216, 0.0), (1219, 0.0), (1220, 0.0), (1221, 0.0), (1222, 0.0), (1223, 0.0), (1224, 0.0), (1227, 0.0), (1230, 0.0), (1234, 0.0), (1236, 0.0), (1237, 0.0), (1238, 0.0), (1239, 0.0), (1240, 0.0), (1241, 0.0), (1242, 0.0), (1244, 0.0), (1247, 0.0), (1248, 0.0), (1251, 0.0), (1252, 0.0), (1254, 0.0), (1255, 0.0), (1258, 0.0), (1260, 0.0), (1261, 0.0), (1264, 0.0), (1265, 0.0), (1267, 0.0), (1271, 0.0), (1273, 0.0), (1274, 0.0), (1276, 0.0), (1280, 0.0), (1283, 0.0), (1284, 0.0), (1285, 0.0), (1286, 0.0), (1288, 0.0), (1289, 0.0), (1290, 0.0), (1291, 0.0), (1293, 0.0), (1294, 0.0), (1295, 0.0), (1296, 0.0), (1297, 0.0), (1300, 0.0), (1302, 0.0), (1305, 0.0), (1306, 0.0), (1307, 0.0), (1310, 0.0), (1316, 0.0), (1318, 0.0), (1321, 0.0), (1322, 0.0), (1323, 0.0), (1326, 0.0), (1329, 0.0), (1330, 0.0), (1331, 0.0), (1332, 0.0), (1336, 0.0), (1337, 0.0), (1339, 0.0), (1340, 0.0), (1344, 0.0), (1345, 0.0), (1347, 0.0), (1348, 0.0), (1349, 0.0), (1350, 0.0), (1351, 0.0), (1353, 0.0), (1357, 0.0), (1358, 0.0), (1359, 0.0), (1362, 0.0), (1365, 0.0), (1366, 0.0), (1367, 0.0), (1369, 0.0), (1370, 0.0), (1371, 0.0), (1372, 0.0), (1373, 0.0), (1374, 0.0), (1375, 0.0), (1378, 0.0), (1379, 0.0), (1381, 0.0), (1382, 0.0), (1383, 0.0), (1384, 0.0), (1385, 0.0), (1387, 0.0), (1390, 0.0), (1392, 0.0), (1394, 0.0), (1395, 0.0), (1396, 0.0), (1397, 0.0), (1398, 0.0), (1399, 0.0), (1400, 0.0), (1401, 0.0), (1404, 0.0), (1405, 0.0), (1408, 0.0), (1411, 0.0), (1412, 0.0), (1413, 0.0), (1414, 0.0), (1415, 0.0), (1416, 0.0), (1417, 0.0), (1418, 0.0), (1419, 0.0), (1422, 0.0), (1423, 0.0), (1424, 0.0), (1425, 0.0), (1426, 0.0), (1428, 0.0), (1429, 0.0), (1430, 0.0), (1431, 0.0), (1433, 0.0), (1434, 0.0), (1435, 0.0), (1436, 0.0), (1438, 0.0), (1442, 0.0), (1443, 0.0), (1444, 0.0), (1445, 0.0), (1446, 0.0), (1447, 0.0), (1449, 0.0), (1450, 0.0), (1451, 0.0), (1452, 0.0), (1453, 0.0), (1454, 0.0), (1459, 0.0), (1460, 0.0), (1462, 0.0), (1463, 0.0), (1466, 0.0), (1469, 0.0), (1473, 0.0), (1475, 0.0), (1476, 0.0), (1477, 0.0), (1478, 0.0), (1480, 0.0), (1482, 0.0), (1484, 0.0), (1485, 0.0), (1486, 0.0), (1488, 0.0), (1490, 0.0)]\n"
     ]
    }
   ],
   "source": [
    "# Sort the similarity scores for the first movie in descending order\n",
    "sorted_similarities = sorted(list(enumerate(similarity_matrix[0])), key=lambda x: x[1], reverse=True)\n",
    "\n",
    "# Print the sorted similarity scores for the first movie\n",
    "print(sorted_similarities)"
   ]
  },
  {
   "cell_type": "code",
   "execution_count": 46,
   "id": "8ec7bf12-f1ff-47e5-a777-74af48f5d00a",
   "metadata": {},
   "outputs": [
    {
     "name": "stdout",
     "output_type": "stream",
     "text": [
      "[(188, 0.23788041338002103), (331, 0.23112508176051216), (579, 0.23000322710873397), (51, 0.22645540682891915), (1243, 0.21790681682020446)]\n"
     ]
    }
   ],
   "source": [
    "# Get the top 5 similar movies (excluding the first movie itself)\n",
    "top_5_similar_movies = sorted_similarities[1:6]  # Exclude the first movie (similarity to itself)\n",
    "\n",
    "# Print the top 5 similar movies\n",
    "print(top_5_similar_movies)\n"
   ]
  },
  {
   "cell_type": "code",
   "execution_count": 47,
   "id": "e8672d4d-346b-4cd9-a748-06cea17a63c6",
   "metadata": {},
   "outputs": [],
   "source": [
    "def recommend(movie):\n",
    "    # Get the index of the movie that matches the title\n",
    "    movie_index = new_df[new_df['title'] == movie].index[0]  # Fix: Get the index of the specified movie\n",
    "\n",
    "    # Get the distances (similarity scores) for the specified movie\n",
    "    distances = similarity_matrix[movie_index]  # Use the correct variable name `similarity_matrix`\n",
    "\n",
    "    # Sort the movies based on their similarity scores in descending order\n",
    "    movies_list = sorted(list(enumerate(distances)), reverse=True, key=lambda x: x[1])[1:6]  # Exclude the first movie itself\n",
    "\n",
    "    # Print the titles of the top 5 similar movies\n",
    "    for i in movies_list:\n",
    "        print(new_df.iloc[i[0]]['title'])  # Use iloc to get the title based on the index\n",
    "\n",
    "    return \n",
    "\n",
    "\n"
   ]
  },
  {
   "cell_type": "code",
   "execution_count": 48,
   "id": "6c2593b6-a8fb-4790-87fb-94ebcdbe50a6",
   "metadata": {},
   "outputs": [
    {
     "name": "stdout",
     "output_type": "stream",
     "text": [
      "Kung Fu Panda\n",
      "How to Train Your Dragon 2\n",
      "Kung Fu Panda 2\n",
      "Cars 2\n",
      "Now You See Me 2\n"
     ]
    }
   ],
   "source": [
    "# Example usage\n",
    "recommend('Batman Begins')"
   ]
  },
  {
   "cell_type": "code",
   "execution_count": 49,
   "id": "fd6fe0c8-88cc-47ee-b5cc-1aa7d98f6476",
   "metadata": {},
   "outputs": [],
   "source": [
    "import pickle"
   ]
  },
  {
   "cell_type": "code",
   "execution_count": 50,
   "id": "e875ab12-cc2e-48e2-add6-ff036c5f62f3",
   "metadata": {},
   "outputs": [],
   "source": [
    "# Save the DataFrame `new_df` as a pickle file\n",
    "pickle.dump(new_df, open('movies.pkl', 'wb'))\n"
   ]
  },
  {
   "cell_type": "code",
   "execution_count": 51,
   "id": "79ef8b5e-acc0-4d85-9ea7-e89627d8eac3",
   "metadata": {},
   "outputs": [
    {
     "name": "stdout",
     "output_type": "stream",
     "text": [
      "['Avatar' \"Pirates of the Caribbean: At World's End\" 'Spectre' ...\n",
      " 'Tin Can Man' 'Primer' 'Shanghai Calling']\n"
     ]
    }
   ],
   "source": [
    "titles = new_df['title'].values\n",
    "print(titles)"
   ]
  },
  {
   "cell_type": "code",
   "execution_count": 56,
   "id": "aa2baa1e-d4e8-45bf-9e42-5db50f1614f0",
   "metadata": {},
   "outputs": [],
   "source": [
    "pickle.dump(new_df.to_dict(),open('movie_dict.pkl','wb'))"
   ]
  },
  {
   "cell_type": "code",
   "execution_count": 57,
   "id": "e91fb0d6-b4ca-401a-97ed-93b68008f661",
   "metadata": {},
   "outputs": [],
   "source": [
    "pickle.dump(similarity_matrix, open('similarity_matrix.pkl', 'wb'))"
   ]
  },
  {
   "cell_type": "code",
   "execution_count": null,
   "id": "aa897ac1-aee6-4349-b50e-ffe4b3356f23",
   "metadata": {},
   "outputs": [],
   "source": []
  },
  {
   "cell_type": "code",
   "execution_count": null,
   "id": "4fa68ad4-e92c-40df-97a2-1d5ecf6b146f",
   "metadata": {},
   "outputs": [],
   "source": []
  },
  {
   "cell_type": "code",
   "execution_count": null,
   "id": "c99258f8-0af9-4af9-8018-ae17a0940e0b",
   "metadata": {},
   "outputs": [],
   "source": []
  }
 ],
 "metadata": {
  "kernelspec": {
   "display_name": "Python 3 (ipykernel)",
   "language": "python",
   "name": "python3"
  },
  "language_info": {
   "codemirror_mode": {
    "name": "ipython",
    "version": 3
   },
   "file_extension": ".py",
   "mimetype": "text/x-python",
   "name": "python",
   "nbconvert_exporter": "python",
   "pygments_lexer": "ipython3",
   "version": "3.10.11"
  }
 },
 "nbformat": 4,
 "nbformat_minor": 5
}
